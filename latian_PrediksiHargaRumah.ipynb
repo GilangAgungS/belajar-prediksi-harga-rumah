{
  "cells": [
    {
      "cell_type": "markdown",
      "metadata": {
        "id": "TqKvXoQFt7In"
      },
      "source": [
        "# Prediksi Harga Rumah\n",
        "- menggunakan algoritma multiple linear regression\n",
        "- data dan kode diperoleh dari https://github.com/adimasmudi/house_prediction\n",
        "- https://github.com/GilangAgungS/belajar-prediksi-harga-rumah\n",
        "- Multiple linear regression memiliki beberapa variabel independen"
      ]
    },
    {
      "cell_type": "code",
      "source": [
        "from google.colab import drive\n",
        "drive.mount('/content/drive')"
      ],
      "metadata": {
        "colab": {
          "base_uri": "https://localhost:8080/"
        },
        "id": "ZdZBj6dZ4kLC",
        "outputId": "0e9179fe-7265-4d7a-93b8-cc12edd2e169"
      },
      "execution_count": 213,
      "outputs": [
        {
          "output_type": "stream",
          "name": "stdout",
          "text": [
            "Drive already mounted at /content/drive; to attempt to forcibly remount, call drive.mount(\"/content/drive\", force_remount=True).\n"
          ]
        }
      ]
    },
    {
      "cell_type": "code",
      "source": [
        "import pandas as pd\n",
        "dataset = pd.read_csv('/content/drive/My Drive/latian prediksi rumah/kc_house_data.csv')"
      ],
      "metadata": {
        "id": "eirs-yUfx9Wp"
      },
      "execution_count": 214,
      "outputs": []
    },
    {
      "cell_type": "markdown",
      "metadata": {
        "id": "J_21mZyht7It"
      },
      "source": [
        "## 1. Data Understanding"
      ]
    },
    {
      "cell_type": "markdown",
      "metadata": {
        "id": "J0qY4ELwt7Iu"
      },
      "source": [
        "Memanggil library yang dibutuhkan"
      ]
    },
    {
      "cell_type": "code",
      "execution_count": 215,
      "metadata": {
        "id": "NgzRuABLt7Iv"
      },
      "outputs": [],
      "source": [
        "import numpy as np\n",
        "import matplotlib.pyplot as plt\n",
        "import seaborn as sns"
      ]
    },
    {
      "cell_type": "markdown",
      "metadata": {
        "id": "JaLTcIWOt7Ix"
      },
      "source": [
        "membuka dataset"
      ]
    },
    {
      "cell_type": "code",
      "execution_count": 216,
      "metadata": {
        "id": "Oz5DyxFxt7Ix",
        "colab": {
          "base_uri": "https://localhost:8080/",
          "height": 468
        },
        "outputId": "4cf4821b-7771-4214-f75c-96f0bcb38d19"
      },
      "outputs": [
        {
          "output_type": "execute_result",
          "data": {
            "text/plain": [
              "               id             date     price  bedrooms  bathrooms  \\\n",
              "0      7129300520  20141013T000000  221900.0         3       1.00   \n",
              "1      6414100192  20141209T000000  538000.0         3       2.25   \n",
              "2      5631500400  20150225T000000  180000.0         2       1.00   \n",
              "3      2487200875  20141209T000000  604000.0         4       3.00   \n",
              "4      1954400510  20150218T000000  510000.0         3       2.00   \n",
              "...           ...              ...       ...       ...        ...   \n",
              "21608   263000018  20140521T000000  360000.0         3       2.50   \n",
              "21609  6600060120  20150223T000000  400000.0         4       2.50   \n",
              "21610  1523300141  20140623T000000  402101.0         2       0.75   \n",
              "21611   291310100  20150116T000000  400000.0         3       2.50   \n",
              "21612  1523300157  20141015T000000  325000.0         2       0.75   \n",
              "\n",
              "       sqft_living  sqft_lot  floors  waterfront  view  ...  grade  \\\n",
              "0             1180      5650     1.0           0     0  ...      7   \n",
              "1             2570      7242     2.0           0     0  ...      7   \n",
              "2              770     10000     1.0           0     0  ...      6   \n",
              "3             1960      5000     1.0           0     0  ...      7   \n",
              "4             1680      8080     1.0           0     0  ...      8   \n",
              "...            ...       ...     ...         ...   ...  ...    ...   \n",
              "21608         1530      1131     3.0           0     0  ...      8   \n",
              "21609         2310      5813     2.0           0     0  ...      8   \n",
              "21610         1020      1350     2.0           0     0  ...      7   \n",
              "21611         1600      2388     2.0           0     0  ...      8   \n",
              "21612         1020      1076     2.0           0     0  ...      7   \n",
              "\n",
              "       sqft_above  sqft_basement  yr_built  yr_renovated  zipcode      lat  \\\n",
              "0            1180              0      1955             0    98178  47.5112   \n",
              "1            2170            400      1951          1991    98125  47.7210   \n",
              "2             770              0      1933             0    98028  47.7379   \n",
              "3            1050            910      1965             0    98136  47.5208   \n",
              "4            1680              0      1987             0    98074  47.6168   \n",
              "...           ...            ...       ...           ...      ...      ...   \n",
              "21608        1530              0      2009             0    98103  47.6993   \n",
              "21609        2310              0      2014             0    98146  47.5107   \n",
              "21610        1020              0      2009             0    98144  47.5944   \n",
              "21611        1600              0      2004             0    98027  47.5345   \n",
              "21612        1020              0      2008             0    98144  47.5941   \n",
              "\n",
              "          long  sqft_living15  sqft_lot15  \n",
              "0     -122.257           1340        5650  \n",
              "1     -122.319           1690        7639  \n",
              "2     -122.233           2720        8062  \n",
              "3     -122.393           1360        5000  \n",
              "4     -122.045           1800        7503  \n",
              "...        ...            ...         ...  \n",
              "21608 -122.346           1530        1509  \n",
              "21609 -122.362           1830        7200  \n",
              "21610 -122.299           1020        2007  \n",
              "21611 -122.069           1410        1287  \n",
              "21612 -122.299           1020        1357  \n",
              "\n",
              "[21613 rows x 21 columns]"
            ],
            "text/html": [
              "\n",
              "  <div id=\"df-70977aa3-dd31-4e97-ab1d-edd264781553\">\n",
              "    <div class=\"colab-df-container\">\n",
              "      <div>\n",
              "<style scoped>\n",
              "    .dataframe tbody tr th:only-of-type {\n",
              "        vertical-align: middle;\n",
              "    }\n",
              "\n",
              "    .dataframe tbody tr th {\n",
              "        vertical-align: top;\n",
              "    }\n",
              "\n",
              "    .dataframe thead th {\n",
              "        text-align: right;\n",
              "    }\n",
              "</style>\n",
              "<table border=\"1\" class=\"dataframe\">\n",
              "  <thead>\n",
              "    <tr style=\"text-align: right;\">\n",
              "      <th></th>\n",
              "      <th>id</th>\n",
              "      <th>date</th>\n",
              "      <th>price</th>\n",
              "      <th>bedrooms</th>\n",
              "      <th>bathrooms</th>\n",
              "      <th>sqft_living</th>\n",
              "      <th>sqft_lot</th>\n",
              "      <th>floors</th>\n",
              "      <th>waterfront</th>\n",
              "      <th>view</th>\n",
              "      <th>...</th>\n",
              "      <th>grade</th>\n",
              "      <th>sqft_above</th>\n",
              "      <th>sqft_basement</th>\n",
              "      <th>yr_built</th>\n",
              "      <th>yr_renovated</th>\n",
              "      <th>zipcode</th>\n",
              "      <th>lat</th>\n",
              "      <th>long</th>\n",
              "      <th>sqft_living15</th>\n",
              "      <th>sqft_lot15</th>\n",
              "    </tr>\n",
              "  </thead>\n",
              "  <tbody>\n",
              "    <tr>\n",
              "      <th>0</th>\n",
              "      <td>7129300520</td>\n",
              "      <td>20141013T000000</td>\n",
              "      <td>221900.0</td>\n",
              "      <td>3</td>\n",
              "      <td>1.00</td>\n",
              "      <td>1180</td>\n",
              "      <td>5650</td>\n",
              "      <td>1.0</td>\n",
              "      <td>0</td>\n",
              "      <td>0</td>\n",
              "      <td>...</td>\n",
              "      <td>7</td>\n",
              "      <td>1180</td>\n",
              "      <td>0</td>\n",
              "      <td>1955</td>\n",
              "      <td>0</td>\n",
              "      <td>98178</td>\n",
              "      <td>47.5112</td>\n",
              "      <td>-122.257</td>\n",
              "      <td>1340</td>\n",
              "      <td>5650</td>\n",
              "    </tr>\n",
              "    <tr>\n",
              "      <th>1</th>\n",
              "      <td>6414100192</td>\n",
              "      <td>20141209T000000</td>\n",
              "      <td>538000.0</td>\n",
              "      <td>3</td>\n",
              "      <td>2.25</td>\n",
              "      <td>2570</td>\n",
              "      <td>7242</td>\n",
              "      <td>2.0</td>\n",
              "      <td>0</td>\n",
              "      <td>0</td>\n",
              "      <td>...</td>\n",
              "      <td>7</td>\n",
              "      <td>2170</td>\n",
              "      <td>400</td>\n",
              "      <td>1951</td>\n",
              "      <td>1991</td>\n",
              "      <td>98125</td>\n",
              "      <td>47.7210</td>\n",
              "      <td>-122.319</td>\n",
              "      <td>1690</td>\n",
              "      <td>7639</td>\n",
              "    </tr>\n",
              "    <tr>\n",
              "      <th>2</th>\n",
              "      <td>5631500400</td>\n",
              "      <td>20150225T000000</td>\n",
              "      <td>180000.0</td>\n",
              "      <td>2</td>\n",
              "      <td>1.00</td>\n",
              "      <td>770</td>\n",
              "      <td>10000</td>\n",
              "      <td>1.0</td>\n",
              "      <td>0</td>\n",
              "      <td>0</td>\n",
              "      <td>...</td>\n",
              "      <td>6</td>\n",
              "      <td>770</td>\n",
              "      <td>0</td>\n",
              "      <td>1933</td>\n",
              "      <td>0</td>\n",
              "      <td>98028</td>\n",
              "      <td>47.7379</td>\n",
              "      <td>-122.233</td>\n",
              "      <td>2720</td>\n",
              "      <td>8062</td>\n",
              "    </tr>\n",
              "    <tr>\n",
              "      <th>3</th>\n",
              "      <td>2487200875</td>\n",
              "      <td>20141209T000000</td>\n",
              "      <td>604000.0</td>\n",
              "      <td>4</td>\n",
              "      <td>3.00</td>\n",
              "      <td>1960</td>\n",
              "      <td>5000</td>\n",
              "      <td>1.0</td>\n",
              "      <td>0</td>\n",
              "      <td>0</td>\n",
              "      <td>...</td>\n",
              "      <td>7</td>\n",
              "      <td>1050</td>\n",
              "      <td>910</td>\n",
              "      <td>1965</td>\n",
              "      <td>0</td>\n",
              "      <td>98136</td>\n",
              "      <td>47.5208</td>\n",
              "      <td>-122.393</td>\n",
              "      <td>1360</td>\n",
              "      <td>5000</td>\n",
              "    </tr>\n",
              "    <tr>\n",
              "      <th>4</th>\n",
              "      <td>1954400510</td>\n",
              "      <td>20150218T000000</td>\n",
              "      <td>510000.0</td>\n",
              "      <td>3</td>\n",
              "      <td>2.00</td>\n",
              "      <td>1680</td>\n",
              "      <td>8080</td>\n",
              "      <td>1.0</td>\n",
              "      <td>0</td>\n",
              "      <td>0</td>\n",
              "      <td>...</td>\n",
              "      <td>8</td>\n",
              "      <td>1680</td>\n",
              "      <td>0</td>\n",
              "      <td>1987</td>\n",
              "      <td>0</td>\n",
              "      <td>98074</td>\n",
              "      <td>47.6168</td>\n",
              "      <td>-122.045</td>\n",
              "      <td>1800</td>\n",
              "      <td>7503</td>\n",
              "    </tr>\n",
              "    <tr>\n",
              "      <th>...</th>\n",
              "      <td>...</td>\n",
              "      <td>...</td>\n",
              "      <td>...</td>\n",
              "      <td>...</td>\n",
              "      <td>...</td>\n",
              "      <td>...</td>\n",
              "      <td>...</td>\n",
              "      <td>...</td>\n",
              "      <td>...</td>\n",
              "      <td>...</td>\n",
              "      <td>...</td>\n",
              "      <td>...</td>\n",
              "      <td>...</td>\n",
              "      <td>...</td>\n",
              "      <td>...</td>\n",
              "      <td>...</td>\n",
              "      <td>...</td>\n",
              "      <td>...</td>\n",
              "      <td>...</td>\n",
              "      <td>...</td>\n",
              "      <td>...</td>\n",
              "    </tr>\n",
              "    <tr>\n",
              "      <th>21608</th>\n",
              "      <td>263000018</td>\n",
              "      <td>20140521T000000</td>\n",
              "      <td>360000.0</td>\n",
              "      <td>3</td>\n",
              "      <td>2.50</td>\n",
              "      <td>1530</td>\n",
              "      <td>1131</td>\n",
              "      <td>3.0</td>\n",
              "      <td>0</td>\n",
              "      <td>0</td>\n",
              "      <td>...</td>\n",
              "      <td>8</td>\n",
              "      <td>1530</td>\n",
              "      <td>0</td>\n",
              "      <td>2009</td>\n",
              "      <td>0</td>\n",
              "      <td>98103</td>\n",
              "      <td>47.6993</td>\n",
              "      <td>-122.346</td>\n",
              "      <td>1530</td>\n",
              "      <td>1509</td>\n",
              "    </tr>\n",
              "    <tr>\n",
              "      <th>21609</th>\n",
              "      <td>6600060120</td>\n",
              "      <td>20150223T000000</td>\n",
              "      <td>400000.0</td>\n",
              "      <td>4</td>\n",
              "      <td>2.50</td>\n",
              "      <td>2310</td>\n",
              "      <td>5813</td>\n",
              "      <td>2.0</td>\n",
              "      <td>0</td>\n",
              "      <td>0</td>\n",
              "      <td>...</td>\n",
              "      <td>8</td>\n",
              "      <td>2310</td>\n",
              "      <td>0</td>\n",
              "      <td>2014</td>\n",
              "      <td>0</td>\n",
              "      <td>98146</td>\n",
              "      <td>47.5107</td>\n",
              "      <td>-122.362</td>\n",
              "      <td>1830</td>\n",
              "      <td>7200</td>\n",
              "    </tr>\n",
              "    <tr>\n",
              "      <th>21610</th>\n",
              "      <td>1523300141</td>\n",
              "      <td>20140623T000000</td>\n",
              "      <td>402101.0</td>\n",
              "      <td>2</td>\n",
              "      <td>0.75</td>\n",
              "      <td>1020</td>\n",
              "      <td>1350</td>\n",
              "      <td>2.0</td>\n",
              "      <td>0</td>\n",
              "      <td>0</td>\n",
              "      <td>...</td>\n",
              "      <td>7</td>\n",
              "      <td>1020</td>\n",
              "      <td>0</td>\n",
              "      <td>2009</td>\n",
              "      <td>0</td>\n",
              "      <td>98144</td>\n",
              "      <td>47.5944</td>\n",
              "      <td>-122.299</td>\n",
              "      <td>1020</td>\n",
              "      <td>2007</td>\n",
              "    </tr>\n",
              "    <tr>\n",
              "      <th>21611</th>\n",
              "      <td>291310100</td>\n",
              "      <td>20150116T000000</td>\n",
              "      <td>400000.0</td>\n",
              "      <td>3</td>\n",
              "      <td>2.50</td>\n",
              "      <td>1600</td>\n",
              "      <td>2388</td>\n",
              "      <td>2.0</td>\n",
              "      <td>0</td>\n",
              "      <td>0</td>\n",
              "      <td>...</td>\n",
              "      <td>8</td>\n",
              "      <td>1600</td>\n",
              "      <td>0</td>\n",
              "      <td>2004</td>\n",
              "      <td>0</td>\n",
              "      <td>98027</td>\n",
              "      <td>47.5345</td>\n",
              "      <td>-122.069</td>\n",
              "      <td>1410</td>\n",
              "      <td>1287</td>\n",
              "    </tr>\n",
              "    <tr>\n",
              "      <th>21612</th>\n",
              "      <td>1523300157</td>\n",
              "      <td>20141015T000000</td>\n",
              "      <td>325000.0</td>\n",
              "      <td>2</td>\n",
              "      <td>0.75</td>\n",
              "      <td>1020</td>\n",
              "      <td>1076</td>\n",
              "      <td>2.0</td>\n",
              "      <td>0</td>\n",
              "      <td>0</td>\n",
              "      <td>...</td>\n",
              "      <td>7</td>\n",
              "      <td>1020</td>\n",
              "      <td>0</td>\n",
              "      <td>2008</td>\n",
              "      <td>0</td>\n",
              "      <td>98144</td>\n",
              "      <td>47.5941</td>\n",
              "      <td>-122.299</td>\n",
              "      <td>1020</td>\n",
              "      <td>1357</td>\n",
              "    </tr>\n",
              "  </tbody>\n",
              "</table>\n",
              "<p>21613 rows × 21 columns</p>\n",
              "</div>\n",
              "      <button class=\"colab-df-convert\" onclick=\"convertToInteractive('df-70977aa3-dd31-4e97-ab1d-edd264781553')\"\n",
              "              title=\"Convert this dataframe to an interactive table.\"\n",
              "              style=\"display:none;\">\n",
              "        \n",
              "  <svg xmlns=\"http://www.w3.org/2000/svg\" height=\"24px\"viewBox=\"0 0 24 24\"\n",
              "       width=\"24px\">\n",
              "    <path d=\"M0 0h24v24H0V0z\" fill=\"none\"/>\n",
              "    <path d=\"M18.56 5.44l.94 2.06.94-2.06 2.06-.94-2.06-.94-.94-2.06-.94 2.06-2.06.94zm-11 1L8.5 8.5l.94-2.06 2.06-.94-2.06-.94L8.5 2.5l-.94 2.06-2.06.94zm10 10l.94 2.06.94-2.06 2.06-.94-2.06-.94-.94-2.06-.94 2.06-2.06.94z\"/><path d=\"M17.41 7.96l-1.37-1.37c-.4-.4-.92-.59-1.43-.59-.52 0-1.04.2-1.43.59L10.3 9.45l-7.72 7.72c-.78.78-.78 2.05 0 2.83L4 21.41c.39.39.9.59 1.41.59.51 0 1.02-.2 1.41-.59l7.78-7.78 2.81-2.81c.8-.78.8-2.07 0-2.86zM5.41 20L4 18.59l7.72-7.72 1.47 1.35L5.41 20z\"/>\n",
              "  </svg>\n",
              "      </button>\n",
              "      \n",
              "  <style>\n",
              "    .colab-df-container {\n",
              "      display:flex;\n",
              "      flex-wrap:wrap;\n",
              "      gap: 12px;\n",
              "    }\n",
              "\n",
              "    .colab-df-convert {\n",
              "      background-color: #E8F0FE;\n",
              "      border: none;\n",
              "      border-radius: 50%;\n",
              "      cursor: pointer;\n",
              "      display: none;\n",
              "      fill: #1967D2;\n",
              "      height: 32px;\n",
              "      padding: 0 0 0 0;\n",
              "      width: 32px;\n",
              "    }\n",
              "\n",
              "    .colab-df-convert:hover {\n",
              "      background-color: #E2EBFA;\n",
              "      box-shadow: 0px 1px 2px rgba(60, 64, 67, 0.3), 0px 1px 3px 1px rgba(60, 64, 67, 0.15);\n",
              "      fill: #174EA6;\n",
              "    }\n",
              "\n",
              "    [theme=dark] .colab-df-convert {\n",
              "      background-color: #3B4455;\n",
              "      fill: #D2E3FC;\n",
              "    }\n",
              "\n",
              "    [theme=dark] .colab-df-convert:hover {\n",
              "      background-color: #434B5C;\n",
              "      box-shadow: 0px 1px 3px 1px rgba(0, 0, 0, 0.15);\n",
              "      filter: drop-shadow(0px 1px 2px rgba(0, 0, 0, 0.3));\n",
              "      fill: #FFFFFF;\n",
              "    }\n",
              "  </style>\n",
              "\n",
              "      <script>\n",
              "        const buttonEl =\n",
              "          document.querySelector('#df-70977aa3-dd31-4e97-ab1d-edd264781553 button.colab-df-convert');\n",
              "        buttonEl.style.display =\n",
              "          google.colab.kernel.accessAllowed ? 'block' : 'none';\n",
              "\n",
              "        async function convertToInteractive(key) {\n",
              "          const element = document.querySelector('#df-70977aa3-dd31-4e97-ab1d-edd264781553');\n",
              "          const dataTable =\n",
              "            await google.colab.kernel.invokeFunction('convertToInteractive',\n",
              "                                                     [key], {});\n",
              "          if (!dataTable) return;\n",
              "\n",
              "          const docLinkHtml = 'Like what you see? Visit the ' +\n",
              "            '<a target=\"_blank\" href=https://colab.research.google.com/notebooks/data_table.ipynb>data table notebook</a>'\n",
              "            + ' to learn more about interactive tables.';\n",
              "          element.innerHTML = '';\n",
              "          dataTable['output_type'] = 'display_data';\n",
              "          await google.colab.output.renderOutput(dataTable, element);\n",
              "          const docLink = document.createElement('div');\n",
              "          docLink.innerHTML = docLinkHtml;\n",
              "          element.appendChild(docLink);\n",
              "        }\n",
              "      </script>\n",
              "    </div>\n",
              "  </div>\n",
              "  "
            ]
          },
          "metadata": {},
          "execution_count": 216
        }
      ],
      "source": [
        "df = pd.read_csv('/content/drive/My Drive/latian prediksi rumah/kc_house_data.csv')\n",
        "df"
      ]
    },
    {
      "cell_type": "markdown",
      "metadata": {
        "id": "sEZG1TZnt7Iz"
      },
      "source": [
        "Data diatas memuat banyak informasi, namun untuk melakukan prediksi harga rumah membutuhkan beberapa variabel yaitu:\n",
        "- Variabel independen: 'bedroom', 'bathroom', 'sqft_living', 'grade', yr_built'\n",
        "- Variabel dependen(yang dipengaruhi oleh variabel independen): 'price'"
      ]
    },
    {
      "cell_type": "code",
      "execution_count": 217,
      "metadata": {
        "id": "uWl2EVlKt7I0",
        "colab": {
          "base_uri": "https://localhost:8080/",
          "height": 424
        },
        "outputId": "064b7a9b-6d13-4bf8-8437-50add6e7ac26"
      },
      "outputs": [
        {
          "output_type": "execute_result",
          "data": {
            "text/plain": [
              "          price  bedrooms  bathrooms  sqft_living  grade  yr_built\n",
              "0      221900.0         3       1.00         1180      7      1955\n",
              "1      538000.0         3       2.25         2570      7      1951\n",
              "2      180000.0         2       1.00          770      6      1933\n",
              "3      604000.0         4       3.00         1960      7      1965\n",
              "4      510000.0         3       2.00         1680      8      1987\n",
              "...         ...       ...        ...          ...    ...       ...\n",
              "21608  360000.0         3       2.50         1530      8      2009\n",
              "21609  400000.0         4       2.50         2310      8      2014\n",
              "21610  402101.0         2       0.75         1020      7      2009\n",
              "21611  400000.0         3       2.50         1600      8      2004\n",
              "21612  325000.0         2       0.75         1020      7      2008\n",
              "\n",
              "[21613 rows x 6 columns]"
            ],
            "text/html": [
              "\n",
              "  <div id=\"df-4fbb7489-7d24-43dc-a83e-d3ad9a17c2a3\">\n",
              "    <div class=\"colab-df-container\">\n",
              "      <div>\n",
              "<style scoped>\n",
              "    .dataframe tbody tr th:only-of-type {\n",
              "        vertical-align: middle;\n",
              "    }\n",
              "\n",
              "    .dataframe tbody tr th {\n",
              "        vertical-align: top;\n",
              "    }\n",
              "\n",
              "    .dataframe thead th {\n",
              "        text-align: right;\n",
              "    }\n",
              "</style>\n",
              "<table border=\"1\" class=\"dataframe\">\n",
              "  <thead>\n",
              "    <tr style=\"text-align: right;\">\n",
              "      <th></th>\n",
              "      <th>price</th>\n",
              "      <th>bedrooms</th>\n",
              "      <th>bathrooms</th>\n",
              "      <th>sqft_living</th>\n",
              "      <th>grade</th>\n",
              "      <th>yr_built</th>\n",
              "    </tr>\n",
              "  </thead>\n",
              "  <tbody>\n",
              "    <tr>\n",
              "      <th>0</th>\n",
              "      <td>221900.0</td>\n",
              "      <td>3</td>\n",
              "      <td>1.00</td>\n",
              "      <td>1180</td>\n",
              "      <td>7</td>\n",
              "      <td>1955</td>\n",
              "    </tr>\n",
              "    <tr>\n",
              "      <th>1</th>\n",
              "      <td>538000.0</td>\n",
              "      <td>3</td>\n",
              "      <td>2.25</td>\n",
              "      <td>2570</td>\n",
              "      <td>7</td>\n",
              "      <td>1951</td>\n",
              "    </tr>\n",
              "    <tr>\n",
              "      <th>2</th>\n",
              "      <td>180000.0</td>\n",
              "      <td>2</td>\n",
              "      <td>1.00</td>\n",
              "      <td>770</td>\n",
              "      <td>6</td>\n",
              "      <td>1933</td>\n",
              "    </tr>\n",
              "    <tr>\n",
              "      <th>3</th>\n",
              "      <td>604000.0</td>\n",
              "      <td>4</td>\n",
              "      <td>3.00</td>\n",
              "      <td>1960</td>\n",
              "      <td>7</td>\n",
              "      <td>1965</td>\n",
              "    </tr>\n",
              "    <tr>\n",
              "      <th>4</th>\n",
              "      <td>510000.0</td>\n",
              "      <td>3</td>\n",
              "      <td>2.00</td>\n",
              "      <td>1680</td>\n",
              "      <td>8</td>\n",
              "      <td>1987</td>\n",
              "    </tr>\n",
              "    <tr>\n",
              "      <th>...</th>\n",
              "      <td>...</td>\n",
              "      <td>...</td>\n",
              "      <td>...</td>\n",
              "      <td>...</td>\n",
              "      <td>...</td>\n",
              "      <td>...</td>\n",
              "    </tr>\n",
              "    <tr>\n",
              "      <th>21608</th>\n",
              "      <td>360000.0</td>\n",
              "      <td>3</td>\n",
              "      <td>2.50</td>\n",
              "      <td>1530</td>\n",
              "      <td>8</td>\n",
              "      <td>2009</td>\n",
              "    </tr>\n",
              "    <tr>\n",
              "      <th>21609</th>\n",
              "      <td>400000.0</td>\n",
              "      <td>4</td>\n",
              "      <td>2.50</td>\n",
              "      <td>2310</td>\n",
              "      <td>8</td>\n",
              "      <td>2014</td>\n",
              "    </tr>\n",
              "    <tr>\n",
              "      <th>21610</th>\n",
              "      <td>402101.0</td>\n",
              "      <td>2</td>\n",
              "      <td>0.75</td>\n",
              "      <td>1020</td>\n",
              "      <td>7</td>\n",
              "      <td>2009</td>\n",
              "    </tr>\n",
              "    <tr>\n",
              "      <th>21611</th>\n",
              "      <td>400000.0</td>\n",
              "      <td>3</td>\n",
              "      <td>2.50</td>\n",
              "      <td>1600</td>\n",
              "      <td>8</td>\n",
              "      <td>2004</td>\n",
              "    </tr>\n",
              "    <tr>\n",
              "      <th>21612</th>\n",
              "      <td>325000.0</td>\n",
              "      <td>2</td>\n",
              "      <td>0.75</td>\n",
              "      <td>1020</td>\n",
              "      <td>7</td>\n",
              "      <td>2008</td>\n",
              "    </tr>\n",
              "  </tbody>\n",
              "</table>\n",
              "<p>21613 rows × 6 columns</p>\n",
              "</div>\n",
              "      <button class=\"colab-df-convert\" onclick=\"convertToInteractive('df-4fbb7489-7d24-43dc-a83e-d3ad9a17c2a3')\"\n",
              "              title=\"Convert this dataframe to an interactive table.\"\n",
              "              style=\"display:none;\">\n",
              "        \n",
              "  <svg xmlns=\"http://www.w3.org/2000/svg\" height=\"24px\"viewBox=\"0 0 24 24\"\n",
              "       width=\"24px\">\n",
              "    <path d=\"M0 0h24v24H0V0z\" fill=\"none\"/>\n",
              "    <path d=\"M18.56 5.44l.94 2.06.94-2.06 2.06-.94-2.06-.94-.94-2.06-.94 2.06-2.06.94zm-11 1L8.5 8.5l.94-2.06 2.06-.94-2.06-.94L8.5 2.5l-.94 2.06-2.06.94zm10 10l.94 2.06.94-2.06 2.06-.94-2.06-.94-.94-2.06-.94 2.06-2.06.94z\"/><path d=\"M17.41 7.96l-1.37-1.37c-.4-.4-.92-.59-1.43-.59-.52 0-1.04.2-1.43.59L10.3 9.45l-7.72 7.72c-.78.78-.78 2.05 0 2.83L4 21.41c.39.39.9.59 1.41.59.51 0 1.02-.2 1.41-.59l7.78-7.78 2.81-2.81c.8-.78.8-2.07 0-2.86zM5.41 20L4 18.59l7.72-7.72 1.47 1.35L5.41 20z\"/>\n",
              "  </svg>\n",
              "      </button>\n",
              "      \n",
              "  <style>\n",
              "    .colab-df-container {\n",
              "      display:flex;\n",
              "      flex-wrap:wrap;\n",
              "      gap: 12px;\n",
              "    }\n",
              "\n",
              "    .colab-df-convert {\n",
              "      background-color: #E8F0FE;\n",
              "      border: none;\n",
              "      border-radius: 50%;\n",
              "      cursor: pointer;\n",
              "      display: none;\n",
              "      fill: #1967D2;\n",
              "      height: 32px;\n",
              "      padding: 0 0 0 0;\n",
              "      width: 32px;\n",
              "    }\n",
              "\n",
              "    .colab-df-convert:hover {\n",
              "      background-color: #E2EBFA;\n",
              "      box-shadow: 0px 1px 2px rgba(60, 64, 67, 0.3), 0px 1px 3px 1px rgba(60, 64, 67, 0.15);\n",
              "      fill: #174EA6;\n",
              "    }\n",
              "\n",
              "    [theme=dark] .colab-df-convert {\n",
              "      background-color: #3B4455;\n",
              "      fill: #D2E3FC;\n",
              "    }\n",
              "\n",
              "    [theme=dark] .colab-df-convert:hover {\n",
              "      background-color: #434B5C;\n",
              "      box-shadow: 0px 1px 3px 1px rgba(0, 0, 0, 0.15);\n",
              "      filter: drop-shadow(0px 1px 2px rgba(0, 0, 0, 0.3));\n",
              "      fill: #FFFFFF;\n",
              "    }\n",
              "  </style>\n",
              "\n",
              "      <script>\n",
              "        const buttonEl =\n",
              "          document.querySelector('#df-4fbb7489-7d24-43dc-a83e-d3ad9a17c2a3 button.colab-df-convert');\n",
              "        buttonEl.style.display =\n",
              "          google.colab.kernel.accessAllowed ? 'block' : 'none';\n",
              "\n",
              "        async function convertToInteractive(key) {\n",
              "          const element = document.querySelector('#df-4fbb7489-7d24-43dc-a83e-d3ad9a17c2a3');\n",
              "          const dataTable =\n",
              "            await google.colab.kernel.invokeFunction('convertToInteractive',\n",
              "                                                     [key], {});\n",
              "          if (!dataTable) return;\n",
              "\n",
              "          const docLinkHtml = 'Like what you see? Visit the ' +\n",
              "            '<a target=\"_blank\" href=https://colab.research.google.com/notebooks/data_table.ipynb>data table notebook</a>'\n",
              "            + ' to learn more about interactive tables.';\n",
              "          element.innerHTML = '';\n",
              "          dataTable['output_type'] = 'display_data';\n",
              "          await google.colab.output.renderOutput(dataTable, element);\n",
              "          const docLink = document.createElement('div');\n",
              "          docLink.innerHTML = docLinkHtml;\n",
              "          element.appendChild(docLink);\n",
              "        }\n",
              "      </script>\n",
              "    </div>\n",
              "  </div>\n",
              "  "
            ]
          },
          "metadata": {},
          "execution_count": 217
        }
      ],
      "source": [
        "dataFrame = pd.read_csv('/content/drive/My Drive/latian prediksi rumah/kc_house_data.csv', usecols=['bedrooms', 'bathrooms', 'sqft_living', 'grade','yr_built','price'])\n",
        "dataFrame"
      ]
    },
    {
      "cell_type": "code",
      "execution_count": 218,
      "metadata": {
        "id": "yOxC-NEWt7I1",
        "colab": {
          "base_uri": "https://localhost:8080/"
        },
        "outputId": "9cb4cdf4-e3c2-41bb-c5a4-ce1fa6b9fd1f"
      },
      "outputs": [
        {
          "output_type": "execute_result",
          "data": {
            "text/plain": [
              "1        1\n",
              "3        3\n",
              "4       29\n",
              "5      242\n",
              "6     2038\n",
              "7     8981\n",
              "8     6068\n",
              "9     2615\n",
              "10    1134\n",
              "11     399\n",
              "12      90\n",
              "13      13\n",
              "Name: grade, dtype: int64"
            ]
          },
          "metadata": {},
          "execution_count": 218
        }
      ],
      "source": [
        "#menampilkan jumlah data grade urutkan dari yang terbesar\n",
        "dataFrame['grade'].value_counts().sort_index(ascending=True)"
      ]
    },
    {
      "cell_type": "markdown",
      "metadata": {
        "id": "JX4VTmRit7I3"
      },
      "source": [
        "Penjelasan dari kolom diatas:\n",
        "- bedrooms : jumlah kamar tidur\n",
        "- bathrooms : jumlah kamar mandi\n",
        "- sqft_living : luas ruangan dalam satuan sqft (square feet)\n",
        "- grade : klasifikasi dari kelas rumah\n",
        "- yr_built : tahun bangunan\n",
        "- price : harga rumah ($)"
      ]
    },
    {
      "cell_type": "code",
      "execution_count": 219,
      "metadata": {
        "id": "7PUGNumZt7I4",
        "colab": {
          "base_uri": "https://localhost:8080/",
          "height": 363
        },
        "outputId": "c43180ca-645e-4084-f1f1-6830684fcc44"
      },
      "outputs": [
        {
          "output_type": "execute_result",
          "data": {
            "text/plain": [
              "       price  bedrooms  bathrooms  sqft_living  grade  yr_built\n",
              "0   221900.0         3       1.00         1180      7      1955\n",
              "1   538000.0         3       2.25         2570      7      1951\n",
              "2   180000.0         2       1.00          770      6      1933\n",
              "3   604000.0         4       3.00         1960      7      1965\n",
              "4   510000.0         3       2.00         1680      8      1987\n",
              "5  1225000.0         4       4.50         5420     11      2001\n",
              "6   257500.0         3       2.25         1715      7      1995\n",
              "7   291850.0         3       1.50         1060      7      1963\n",
              "8   229500.0         3       1.00         1780      7      1960\n",
              "9   323000.0         3       2.50         1890      7      2003"
            ],
            "text/html": [
              "\n",
              "  <div id=\"df-8845b116-24ec-44f6-b357-6c2f02e8f89a\">\n",
              "    <div class=\"colab-df-container\">\n",
              "      <div>\n",
              "<style scoped>\n",
              "    .dataframe tbody tr th:only-of-type {\n",
              "        vertical-align: middle;\n",
              "    }\n",
              "\n",
              "    .dataframe tbody tr th {\n",
              "        vertical-align: top;\n",
              "    }\n",
              "\n",
              "    .dataframe thead th {\n",
              "        text-align: right;\n",
              "    }\n",
              "</style>\n",
              "<table border=\"1\" class=\"dataframe\">\n",
              "  <thead>\n",
              "    <tr style=\"text-align: right;\">\n",
              "      <th></th>\n",
              "      <th>price</th>\n",
              "      <th>bedrooms</th>\n",
              "      <th>bathrooms</th>\n",
              "      <th>sqft_living</th>\n",
              "      <th>grade</th>\n",
              "      <th>yr_built</th>\n",
              "    </tr>\n",
              "  </thead>\n",
              "  <tbody>\n",
              "    <tr>\n",
              "      <th>0</th>\n",
              "      <td>221900.0</td>\n",
              "      <td>3</td>\n",
              "      <td>1.00</td>\n",
              "      <td>1180</td>\n",
              "      <td>7</td>\n",
              "      <td>1955</td>\n",
              "    </tr>\n",
              "    <tr>\n",
              "      <th>1</th>\n",
              "      <td>538000.0</td>\n",
              "      <td>3</td>\n",
              "      <td>2.25</td>\n",
              "      <td>2570</td>\n",
              "      <td>7</td>\n",
              "      <td>1951</td>\n",
              "    </tr>\n",
              "    <tr>\n",
              "      <th>2</th>\n",
              "      <td>180000.0</td>\n",
              "      <td>2</td>\n",
              "      <td>1.00</td>\n",
              "      <td>770</td>\n",
              "      <td>6</td>\n",
              "      <td>1933</td>\n",
              "    </tr>\n",
              "    <tr>\n",
              "      <th>3</th>\n",
              "      <td>604000.0</td>\n",
              "      <td>4</td>\n",
              "      <td>3.00</td>\n",
              "      <td>1960</td>\n",
              "      <td>7</td>\n",
              "      <td>1965</td>\n",
              "    </tr>\n",
              "    <tr>\n",
              "      <th>4</th>\n",
              "      <td>510000.0</td>\n",
              "      <td>3</td>\n",
              "      <td>2.00</td>\n",
              "      <td>1680</td>\n",
              "      <td>8</td>\n",
              "      <td>1987</td>\n",
              "    </tr>\n",
              "    <tr>\n",
              "      <th>5</th>\n",
              "      <td>1225000.0</td>\n",
              "      <td>4</td>\n",
              "      <td>4.50</td>\n",
              "      <td>5420</td>\n",
              "      <td>11</td>\n",
              "      <td>2001</td>\n",
              "    </tr>\n",
              "    <tr>\n",
              "      <th>6</th>\n",
              "      <td>257500.0</td>\n",
              "      <td>3</td>\n",
              "      <td>2.25</td>\n",
              "      <td>1715</td>\n",
              "      <td>7</td>\n",
              "      <td>1995</td>\n",
              "    </tr>\n",
              "    <tr>\n",
              "      <th>7</th>\n",
              "      <td>291850.0</td>\n",
              "      <td>3</td>\n",
              "      <td>1.50</td>\n",
              "      <td>1060</td>\n",
              "      <td>7</td>\n",
              "      <td>1963</td>\n",
              "    </tr>\n",
              "    <tr>\n",
              "      <th>8</th>\n",
              "      <td>229500.0</td>\n",
              "      <td>3</td>\n",
              "      <td>1.00</td>\n",
              "      <td>1780</td>\n",
              "      <td>7</td>\n",
              "      <td>1960</td>\n",
              "    </tr>\n",
              "    <tr>\n",
              "      <th>9</th>\n",
              "      <td>323000.0</td>\n",
              "      <td>3</td>\n",
              "      <td>2.50</td>\n",
              "      <td>1890</td>\n",
              "      <td>7</td>\n",
              "      <td>2003</td>\n",
              "    </tr>\n",
              "  </tbody>\n",
              "</table>\n",
              "</div>\n",
              "      <button class=\"colab-df-convert\" onclick=\"convertToInteractive('df-8845b116-24ec-44f6-b357-6c2f02e8f89a')\"\n",
              "              title=\"Convert this dataframe to an interactive table.\"\n",
              "              style=\"display:none;\">\n",
              "        \n",
              "  <svg xmlns=\"http://www.w3.org/2000/svg\" height=\"24px\"viewBox=\"0 0 24 24\"\n",
              "       width=\"24px\">\n",
              "    <path d=\"M0 0h24v24H0V0z\" fill=\"none\"/>\n",
              "    <path d=\"M18.56 5.44l.94 2.06.94-2.06 2.06-.94-2.06-.94-.94-2.06-.94 2.06-2.06.94zm-11 1L8.5 8.5l.94-2.06 2.06-.94-2.06-.94L8.5 2.5l-.94 2.06-2.06.94zm10 10l.94 2.06.94-2.06 2.06-.94-2.06-.94-.94-2.06-.94 2.06-2.06.94z\"/><path d=\"M17.41 7.96l-1.37-1.37c-.4-.4-.92-.59-1.43-.59-.52 0-1.04.2-1.43.59L10.3 9.45l-7.72 7.72c-.78.78-.78 2.05 0 2.83L4 21.41c.39.39.9.59 1.41.59.51 0 1.02-.2 1.41-.59l7.78-7.78 2.81-2.81c.8-.78.8-2.07 0-2.86zM5.41 20L4 18.59l7.72-7.72 1.47 1.35L5.41 20z\"/>\n",
              "  </svg>\n",
              "      </button>\n",
              "      \n",
              "  <style>\n",
              "    .colab-df-container {\n",
              "      display:flex;\n",
              "      flex-wrap:wrap;\n",
              "      gap: 12px;\n",
              "    }\n",
              "\n",
              "    .colab-df-convert {\n",
              "      background-color: #E8F0FE;\n",
              "      border: none;\n",
              "      border-radius: 50%;\n",
              "      cursor: pointer;\n",
              "      display: none;\n",
              "      fill: #1967D2;\n",
              "      height: 32px;\n",
              "      padding: 0 0 0 0;\n",
              "      width: 32px;\n",
              "    }\n",
              "\n",
              "    .colab-df-convert:hover {\n",
              "      background-color: #E2EBFA;\n",
              "      box-shadow: 0px 1px 2px rgba(60, 64, 67, 0.3), 0px 1px 3px 1px rgba(60, 64, 67, 0.15);\n",
              "      fill: #174EA6;\n",
              "    }\n",
              "\n",
              "    [theme=dark] .colab-df-convert {\n",
              "      background-color: #3B4455;\n",
              "      fill: #D2E3FC;\n",
              "    }\n",
              "\n",
              "    [theme=dark] .colab-df-convert:hover {\n",
              "      background-color: #434B5C;\n",
              "      box-shadow: 0px 1px 3px 1px rgba(0, 0, 0, 0.15);\n",
              "      filter: drop-shadow(0px 1px 2px rgba(0, 0, 0, 0.3));\n",
              "      fill: #FFFFFF;\n",
              "    }\n",
              "  </style>\n",
              "\n",
              "      <script>\n",
              "        const buttonEl =\n",
              "          document.querySelector('#df-8845b116-24ec-44f6-b357-6c2f02e8f89a button.colab-df-convert');\n",
              "        buttonEl.style.display =\n",
              "          google.colab.kernel.accessAllowed ? 'block' : 'none';\n",
              "\n",
              "        async function convertToInteractive(key) {\n",
              "          const element = document.querySelector('#df-8845b116-24ec-44f6-b357-6c2f02e8f89a');\n",
              "          const dataTable =\n",
              "            await google.colab.kernel.invokeFunction('convertToInteractive',\n",
              "                                                     [key], {});\n",
              "          if (!dataTable) return;\n",
              "\n",
              "          const docLinkHtml = 'Like what you see? Visit the ' +\n",
              "            '<a target=\"_blank\" href=https://colab.research.google.com/notebooks/data_table.ipynb>data table notebook</a>'\n",
              "            + ' to learn more about interactive tables.';\n",
              "          element.innerHTML = '';\n",
              "          dataTable['output_type'] = 'display_data';\n",
              "          await google.colab.output.renderOutput(dataTable, element);\n",
              "          const docLink = document.createElement('div');\n",
              "          docLink.innerHTML = docLinkHtml;\n",
              "          element.appendChild(docLink);\n",
              "        }\n",
              "      </script>\n",
              "    </div>\n",
              "  </div>\n",
              "  "
            ]
          },
          "metadata": {},
          "execution_count": 219
        }
      ],
      "source": [
        "#melihat data teratas\n",
        "#variabel independen(x) adalah 'bedroom', 'bathroom', 'sqft_living', 'grade', yr_built'.\n",
        "#variabel dependen(y) adalah 'price'\n",
        "dataFrame.head(10)"
      ]
    },
    {
      "cell_type": "code",
      "execution_count": 220,
      "metadata": {
        "id": "8A6Gp9ant7I4",
        "colab": {
          "base_uri": "https://localhost:8080/",
          "height": 363
        },
        "outputId": "424f6f2b-8bbc-4e8e-d051-0d3e7e83c270"
      },
      "outputs": [
        {
          "output_type": "execute_result",
          "data": {
            "text/plain": [
              "           price  bedrooms  bathrooms  sqft_living  grade  yr_built\n",
              "21603   507250.0         3       2.50         2270      8      2003\n",
              "21604   429000.0         3       2.00         1490      8      2014\n",
              "21605   610685.0         4       2.50         2520      9      2014\n",
              "21606  1007500.0         4       3.50         3510      9      2009\n",
              "21607   475000.0         3       2.50         1310      8      2008\n",
              "21608   360000.0         3       2.50         1530      8      2009\n",
              "21609   400000.0         4       2.50         2310      8      2014\n",
              "21610   402101.0         2       0.75         1020      7      2009\n",
              "21611   400000.0         3       2.50         1600      8      2004\n",
              "21612   325000.0         2       0.75         1020      7      2008"
            ],
            "text/html": [
              "\n",
              "  <div id=\"df-a59f4174-ecac-495e-91b6-39ce28857f8b\">\n",
              "    <div class=\"colab-df-container\">\n",
              "      <div>\n",
              "<style scoped>\n",
              "    .dataframe tbody tr th:only-of-type {\n",
              "        vertical-align: middle;\n",
              "    }\n",
              "\n",
              "    .dataframe tbody tr th {\n",
              "        vertical-align: top;\n",
              "    }\n",
              "\n",
              "    .dataframe thead th {\n",
              "        text-align: right;\n",
              "    }\n",
              "</style>\n",
              "<table border=\"1\" class=\"dataframe\">\n",
              "  <thead>\n",
              "    <tr style=\"text-align: right;\">\n",
              "      <th></th>\n",
              "      <th>price</th>\n",
              "      <th>bedrooms</th>\n",
              "      <th>bathrooms</th>\n",
              "      <th>sqft_living</th>\n",
              "      <th>grade</th>\n",
              "      <th>yr_built</th>\n",
              "    </tr>\n",
              "  </thead>\n",
              "  <tbody>\n",
              "    <tr>\n",
              "      <th>21603</th>\n",
              "      <td>507250.0</td>\n",
              "      <td>3</td>\n",
              "      <td>2.50</td>\n",
              "      <td>2270</td>\n",
              "      <td>8</td>\n",
              "      <td>2003</td>\n",
              "    </tr>\n",
              "    <tr>\n",
              "      <th>21604</th>\n",
              "      <td>429000.0</td>\n",
              "      <td>3</td>\n",
              "      <td>2.00</td>\n",
              "      <td>1490</td>\n",
              "      <td>8</td>\n",
              "      <td>2014</td>\n",
              "    </tr>\n",
              "    <tr>\n",
              "      <th>21605</th>\n",
              "      <td>610685.0</td>\n",
              "      <td>4</td>\n",
              "      <td>2.50</td>\n",
              "      <td>2520</td>\n",
              "      <td>9</td>\n",
              "      <td>2014</td>\n",
              "    </tr>\n",
              "    <tr>\n",
              "      <th>21606</th>\n",
              "      <td>1007500.0</td>\n",
              "      <td>4</td>\n",
              "      <td>3.50</td>\n",
              "      <td>3510</td>\n",
              "      <td>9</td>\n",
              "      <td>2009</td>\n",
              "    </tr>\n",
              "    <tr>\n",
              "      <th>21607</th>\n",
              "      <td>475000.0</td>\n",
              "      <td>3</td>\n",
              "      <td>2.50</td>\n",
              "      <td>1310</td>\n",
              "      <td>8</td>\n",
              "      <td>2008</td>\n",
              "    </tr>\n",
              "    <tr>\n",
              "      <th>21608</th>\n",
              "      <td>360000.0</td>\n",
              "      <td>3</td>\n",
              "      <td>2.50</td>\n",
              "      <td>1530</td>\n",
              "      <td>8</td>\n",
              "      <td>2009</td>\n",
              "    </tr>\n",
              "    <tr>\n",
              "      <th>21609</th>\n",
              "      <td>400000.0</td>\n",
              "      <td>4</td>\n",
              "      <td>2.50</td>\n",
              "      <td>2310</td>\n",
              "      <td>8</td>\n",
              "      <td>2014</td>\n",
              "    </tr>\n",
              "    <tr>\n",
              "      <th>21610</th>\n",
              "      <td>402101.0</td>\n",
              "      <td>2</td>\n",
              "      <td>0.75</td>\n",
              "      <td>1020</td>\n",
              "      <td>7</td>\n",
              "      <td>2009</td>\n",
              "    </tr>\n",
              "    <tr>\n",
              "      <th>21611</th>\n",
              "      <td>400000.0</td>\n",
              "      <td>3</td>\n",
              "      <td>2.50</td>\n",
              "      <td>1600</td>\n",
              "      <td>8</td>\n",
              "      <td>2004</td>\n",
              "    </tr>\n",
              "    <tr>\n",
              "      <th>21612</th>\n",
              "      <td>325000.0</td>\n",
              "      <td>2</td>\n",
              "      <td>0.75</td>\n",
              "      <td>1020</td>\n",
              "      <td>7</td>\n",
              "      <td>2008</td>\n",
              "    </tr>\n",
              "  </tbody>\n",
              "</table>\n",
              "</div>\n",
              "      <button class=\"colab-df-convert\" onclick=\"convertToInteractive('df-a59f4174-ecac-495e-91b6-39ce28857f8b')\"\n",
              "              title=\"Convert this dataframe to an interactive table.\"\n",
              "              style=\"display:none;\">\n",
              "        \n",
              "  <svg xmlns=\"http://www.w3.org/2000/svg\" height=\"24px\"viewBox=\"0 0 24 24\"\n",
              "       width=\"24px\">\n",
              "    <path d=\"M0 0h24v24H0V0z\" fill=\"none\"/>\n",
              "    <path d=\"M18.56 5.44l.94 2.06.94-2.06 2.06-.94-2.06-.94-.94-2.06-.94 2.06-2.06.94zm-11 1L8.5 8.5l.94-2.06 2.06-.94-2.06-.94L8.5 2.5l-.94 2.06-2.06.94zm10 10l.94 2.06.94-2.06 2.06-.94-2.06-.94-.94-2.06-.94 2.06-2.06.94z\"/><path d=\"M17.41 7.96l-1.37-1.37c-.4-.4-.92-.59-1.43-.59-.52 0-1.04.2-1.43.59L10.3 9.45l-7.72 7.72c-.78.78-.78 2.05 0 2.83L4 21.41c.39.39.9.59 1.41.59.51 0 1.02-.2 1.41-.59l7.78-7.78 2.81-2.81c.8-.78.8-2.07 0-2.86zM5.41 20L4 18.59l7.72-7.72 1.47 1.35L5.41 20z\"/>\n",
              "  </svg>\n",
              "      </button>\n",
              "      \n",
              "  <style>\n",
              "    .colab-df-container {\n",
              "      display:flex;\n",
              "      flex-wrap:wrap;\n",
              "      gap: 12px;\n",
              "    }\n",
              "\n",
              "    .colab-df-convert {\n",
              "      background-color: #E8F0FE;\n",
              "      border: none;\n",
              "      border-radius: 50%;\n",
              "      cursor: pointer;\n",
              "      display: none;\n",
              "      fill: #1967D2;\n",
              "      height: 32px;\n",
              "      padding: 0 0 0 0;\n",
              "      width: 32px;\n",
              "    }\n",
              "\n",
              "    .colab-df-convert:hover {\n",
              "      background-color: #E2EBFA;\n",
              "      box-shadow: 0px 1px 2px rgba(60, 64, 67, 0.3), 0px 1px 3px 1px rgba(60, 64, 67, 0.15);\n",
              "      fill: #174EA6;\n",
              "    }\n",
              "\n",
              "    [theme=dark] .colab-df-convert {\n",
              "      background-color: #3B4455;\n",
              "      fill: #D2E3FC;\n",
              "    }\n",
              "\n",
              "    [theme=dark] .colab-df-convert:hover {\n",
              "      background-color: #434B5C;\n",
              "      box-shadow: 0px 1px 3px 1px rgba(0, 0, 0, 0.15);\n",
              "      filter: drop-shadow(0px 1px 2px rgba(0, 0, 0, 0.3));\n",
              "      fill: #FFFFFF;\n",
              "    }\n",
              "  </style>\n",
              "\n",
              "      <script>\n",
              "        const buttonEl =\n",
              "          document.querySelector('#df-a59f4174-ecac-495e-91b6-39ce28857f8b button.colab-df-convert');\n",
              "        buttonEl.style.display =\n",
              "          google.colab.kernel.accessAllowed ? 'block' : 'none';\n",
              "\n",
              "        async function convertToInteractive(key) {\n",
              "          const element = document.querySelector('#df-a59f4174-ecac-495e-91b6-39ce28857f8b');\n",
              "          const dataTable =\n",
              "            await google.colab.kernel.invokeFunction('convertToInteractive',\n",
              "                                                     [key], {});\n",
              "          if (!dataTable) return;\n",
              "\n",
              "          const docLinkHtml = 'Like what you see? Visit the ' +\n",
              "            '<a target=\"_blank\" href=https://colab.research.google.com/notebooks/data_table.ipynb>data table notebook</a>'\n",
              "            + ' to learn more about interactive tables.';\n",
              "          element.innerHTML = '';\n",
              "          dataTable['output_type'] = 'display_data';\n",
              "          await google.colab.output.renderOutput(dataTable, element);\n",
              "          const docLink = document.createElement('div');\n",
              "          docLink.innerHTML = docLinkHtml;\n",
              "          element.appendChild(docLink);\n",
              "        }\n",
              "      </script>\n",
              "    </div>\n",
              "  </div>\n",
              "  "
            ]
          },
          "metadata": {},
          "execution_count": 220
        }
      ],
      "source": [
        "#melihat data terbawah\n",
        "dataFrame.tail(10)"
      ]
    },
    {
      "cell_type": "code",
      "execution_count": 221,
      "metadata": {
        "id": "fBTTzVwRt7I5",
        "colab": {
          "base_uri": "https://localhost:8080/"
        },
        "outputId": "f5731c44-a1c6-416e-cd11-e130ba9353a8"
      },
      "outputs": [
        {
          "output_type": "execute_result",
          "data": {
            "text/plain": [
              "(21613, 6)"
            ]
          },
          "metadata": {},
          "execution_count": 221
        }
      ],
      "source": [
        "#melihat jumlah baris dan kolom\n",
        "dataFrame.shape"
      ]
    },
    {
      "cell_type": "code",
      "execution_count": 222,
      "metadata": {
        "id": "thFn25eBt7I6",
        "colab": {
          "base_uri": "https://localhost:8080/"
        },
        "outputId": "ff9bc0ec-76d4-4ce5-bdc0-97e50a9b1843"
      },
      "outputs": [
        {
          "output_type": "stream",
          "name": "stdout",
          "text": [
            "<class 'pandas.core.frame.DataFrame'>\n",
            "RangeIndex: 21613 entries, 0 to 21612\n",
            "Data columns (total 6 columns):\n",
            " #   Column       Non-Null Count  Dtype  \n",
            "---  ------       --------------  -----  \n",
            " 0   price        21613 non-null  float64\n",
            " 1   bedrooms     21613 non-null  int64  \n",
            " 2   bathrooms    21613 non-null  float64\n",
            " 3   sqft_living  21613 non-null  int64  \n",
            " 4   grade        21613 non-null  int64  \n",
            " 5   yr_built     21613 non-null  int64  \n",
            "dtypes: float64(2), int64(4)\n",
            "memory usage: 1013.2 KB\n"
          ]
        }
      ],
      "source": [
        "#melihat nama kolom, jumlah data, dan tipe data\n",
        "dataFrame.info()"
      ]
    },
    {
      "cell_type": "markdown",
      "metadata": {
        "id": "ByNk-C-6t7I7"
      },
      "source": [
        "dari data diatas dapat dilihat bahwa kolom 'bathrooms' memiliki tipe data float, kita perlu ubah menjadi int karena nilai dari kolom 'bathrooms' harus bilangan bulat."
      ]
    },
    {
      "cell_type": "code",
      "execution_count": 223,
      "metadata": {
        "id": "1eFv1ZUbt7I7",
        "colab": {
          "base_uri": "https://localhost:8080/",
          "height": 300
        },
        "outputId": "5ea9c279-9760-40c5-e2d4-7f3ec2c888c3"
      },
      "outputs": [
        {
          "output_type": "execute_result",
          "data": {
            "text/plain": [
              "              price      bedrooms     bathrooms   sqft_living         grade  \\\n",
              "count  2.161300e+04  21613.000000  21613.000000  21613.000000  21613.000000   \n",
              "mean   5.400881e+05      3.370842      2.114757   2079.899736      7.656873   \n",
              "std    3.671272e+05      0.930062      0.770163    918.440897      1.175459   \n",
              "min    7.500000e+04      0.000000      0.000000    290.000000      1.000000   \n",
              "25%    3.219500e+05      3.000000      1.750000   1427.000000      7.000000   \n",
              "50%    4.500000e+05      3.000000      2.250000   1910.000000      7.000000   \n",
              "75%    6.450000e+05      4.000000      2.500000   2550.000000      8.000000   \n",
              "max    7.700000e+06     33.000000      8.000000  13540.000000     13.000000   \n",
              "\n",
              "           yr_built  \n",
              "count  21613.000000  \n",
              "mean    1971.005136  \n",
              "std       29.373411  \n",
              "min     1900.000000  \n",
              "25%     1951.000000  \n",
              "50%     1975.000000  \n",
              "75%     1997.000000  \n",
              "max     2015.000000  "
            ],
            "text/html": [
              "\n",
              "  <div id=\"df-eb525293-4199-4ad1-9204-80f0a860ad9d\">\n",
              "    <div class=\"colab-df-container\">\n",
              "      <div>\n",
              "<style scoped>\n",
              "    .dataframe tbody tr th:only-of-type {\n",
              "        vertical-align: middle;\n",
              "    }\n",
              "\n",
              "    .dataframe tbody tr th {\n",
              "        vertical-align: top;\n",
              "    }\n",
              "\n",
              "    .dataframe thead th {\n",
              "        text-align: right;\n",
              "    }\n",
              "</style>\n",
              "<table border=\"1\" class=\"dataframe\">\n",
              "  <thead>\n",
              "    <tr style=\"text-align: right;\">\n",
              "      <th></th>\n",
              "      <th>price</th>\n",
              "      <th>bedrooms</th>\n",
              "      <th>bathrooms</th>\n",
              "      <th>sqft_living</th>\n",
              "      <th>grade</th>\n",
              "      <th>yr_built</th>\n",
              "    </tr>\n",
              "  </thead>\n",
              "  <tbody>\n",
              "    <tr>\n",
              "      <th>count</th>\n",
              "      <td>2.161300e+04</td>\n",
              "      <td>21613.000000</td>\n",
              "      <td>21613.000000</td>\n",
              "      <td>21613.000000</td>\n",
              "      <td>21613.000000</td>\n",
              "      <td>21613.000000</td>\n",
              "    </tr>\n",
              "    <tr>\n",
              "      <th>mean</th>\n",
              "      <td>5.400881e+05</td>\n",
              "      <td>3.370842</td>\n",
              "      <td>2.114757</td>\n",
              "      <td>2079.899736</td>\n",
              "      <td>7.656873</td>\n",
              "      <td>1971.005136</td>\n",
              "    </tr>\n",
              "    <tr>\n",
              "      <th>std</th>\n",
              "      <td>3.671272e+05</td>\n",
              "      <td>0.930062</td>\n",
              "      <td>0.770163</td>\n",
              "      <td>918.440897</td>\n",
              "      <td>1.175459</td>\n",
              "      <td>29.373411</td>\n",
              "    </tr>\n",
              "    <tr>\n",
              "      <th>min</th>\n",
              "      <td>7.500000e+04</td>\n",
              "      <td>0.000000</td>\n",
              "      <td>0.000000</td>\n",
              "      <td>290.000000</td>\n",
              "      <td>1.000000</td>\n",
              "      <td>1900.000000</td>\n",
              "    </tr>\n",
              "    <tr>\n",
              "      <th>25%</th>\n",
              "      <td>3.219500e+05</td>\n",
              "      <td>3.000000</td>\n",
              "      <td>1.750000</td>\n",
              "      <td>1427.000000</td>\n",
              "      <td>7.000000</td>\n",
              "      <td>1951.000000</td>\n",
              "    </tr>\n",
              "    <tr>\n",
              "      <th>50%</th>\n",
              "      <td>4.500000e+05</td>\n",
              "      <td>3.000000</td>\n",
              "      <td>2.250000</td>\n",
              "      <td>1910.000000</td>\n",
              "      <td>7.000000</td>\n",
              "      <td>1975.000000</td>\n",
              "    </tr>\n",
              "    <tr>\n",
              "      <th>75%</th>\n",
              "      <td>6.450000e+05</td>\n",
              "      <td>4.000000</td>\n",
              "      <td>2.500000</td>\n",
              "      <td>2550.000000</td>\n",
              "      <td>8.000000</td>\n",
              "      <td>1997.000000</td>\n",
              "    </tr>\n",
              "    <tr>\n",
              "      <th>max</th>\n",
              "      <td>7.700000e+06</td>\n",
              "      <td>33.000000</td>\n",
              "      <td>8.000000</td>\n",
              "      <td>13540.000000</td>\n",
              "      <td>13.000000</td>\n",
              "      <td>2015.000000</td>\n",
              "    </tr>\n",
              "  </tbody>\n",
              "</table>\n",
              "</div>\n",
              "      <button class=\"colab-df-convert\" onclick=\"convertToInteractive('df-eb525293-4199-4ad1-9204-80f0a860ad9d')\"\n",
              "              title=\"Convert this dataframe to an interactive table.\"\n",
              "              style=\"display:none;\">\n",
              "        \n",
              "  <svg xmlns=\"http://www.w3.org/2000/svg\" height=\"24px\"viewBox=\"0 0 24 24\"\n",
              "       width=\"24px\">\n",
              "    <path d=\"M0 0h24v24H0V0z\" fill=\"none\"/>\n",
              "    <path d=\"M18.56 5.44l.94 2.06.94-2.06 2.06-.94-2.06-.94-.94-2.06-.94 2.06-2.06.94zm-11 1L8.5 8.5l.94-2.06 2.06-.94-2.06-.94L8.5 2.5l-.94 2.06-2.06.94zm10 10l.94 2.06.94-2.06 2.06-.94-2.06-.94-.94-2.06-.94 2.06-2.06.94z\"/><path d=\"M17.41 7.96l-1.37-1.37c-.4-.4-.92-.59-1.43-.59-.52 0-1.04.2-1.43.59L10.3 9.45l-7.72 7.72c-.78.78-.78 2.05 0 2.83L4 21.41c.39.39.9.59 1.41.59.51 0 1.02-.2 1.41-.59l7.78-7.78 2.81-2.81c.8-.78.8-2.07 0-2.86zM5.41 20L4 18.59l7.72-7.72 1.47 1.35L5.41 20z\"/>\n",
              "  </svg>\n",
              "      </button>\n",
              "      \n",
              "  <style>\n",
              "    .colab-df-container {\n",
              "      display:flex;\n",
              "      flex-wrap:wrap;\n",
              "      gap: 12px;\n",
              "    }\n",
              "\n",
              "    .colab-df-convert {\n",
              "      background-color: #E8F0FE;\n",
              "      border: none;\n",
              "      border-radius: 50%;\n",
              "      cursor: pointer;\n",
              "      display: none;\n",
              "      fill: #1967D2;\n",
              "      height: 32px;\n",
              "      padding: 0 0 0 0;\n",
              "      width: 32px;\n",
              "    }\n",
              "\n",
              "    .colab-df-convert:hover {\n",
              "      background-color: #E2EBFA;\n",
              "      box-shadow: 0px 1px 2px rgba(60, 64, 67, 0.3), 0px 1px 3px 1px rgba(60, 64, 67, 0.15);\n",
              "      fill: #174EA6;\n",
              "    }\n",
              "\n",
              "    [theme=dark] .colab-df-convert {\n",
              "      background-color: #3B4455;\n",
              "      fill: #D2E3FC;\n",
              "    }\n",
              "\n",
              "    [theme=dark] .colab-df-convert:hover {\n",
              "      background-color: #434B5C;\n",
              "      box-shadow: 0px 1px 3px 1px rgba(0, 0, 0, 0.15);\n",
              "      filter: drop-shadow(0px 1px 2px rgba(0, 0, 0, 0.3));\n",
              "      fill: #FFFFFF;\n",
              "    }\n",
              "  </style>\n",
              "\n",
              "      <script>\n",
              "        const buttonEl =\n",
              "          document.querySelector('#df-eb525293-4199-4ad1-9204-80f0a860ad9d button.colab-df-convert');\n",
              "        buttonEl.style.display =\n",
              "          google.colab.kernel.accessAllowed ? 'block' : 'none';\n",
              "\n",
              "        async function convertToInteractive(key) {\n",
              "          const element = document.querySelector('#df-eb525293-4199-4ad1-9204-80f0a860ad9d');\n",
              "          const dataTable =\n",
              "            await google.colab.kernel.invokeFunction('convertToInteractive',\n",
              "                                                     [key], {});\n",
              "          if (!dataTable) return;\n",
              "\n",
              "          const docLinkHtml = 'Like what you see? Visit the ' +\n",
              "            '<a target=\"_blank\" href=https://colab.research.google.com/notebooks/data_table.ipynb>data table notebook</a>'\n",
              "            + ' to learn more about interactive tables.';\n",
              "          element.innerHTML = '';\n",
              "          dataTable['output_type'] = 'display_data';\n",
              "          await google.colab.output.renderOutput(dataTable, element);\n",
              "          const docLink = document.createElement('div');\n",
              "          docLink.innerHTML = docLinkHtml;\n",
              "          element.appendChild(docLink);\n",
              "        }\n",
              "      </script>\n",
              "    </div>\n",
              "  </div>\n",
              "  "
            ]
          },
          "metadata": {},
          "execution_count": 223
        }
      ],
      "source": [
        "dataFrame.describe()"
      ]
    },
    {
      "cell_type": "code",
      "execution_count": 224,
      "metadata": {
        "id": "AWYt-I6Tt7I8",
        "colab": {
          "base_uri": "https://localhost:8080/"
        },
        "outputId": "45eb73c1-0ca7-4073-f4ea-390ebc0a6d7f"
      },
      "outputs": [
        {
          "output_type": "execute_result",
          "data": {
            "text/plain": [
              "0       13\n",
              "1      199\n",
              "2     2760\n",
              "3     9824\n",
              "4     6882\n",
              "5     1601\n",
              "6      272\n",
              "7       38\n",
              "8       13\n",
              "9        6\n",
              "10       3\n",
              "11       1\n",
              "33       1\n",
              "Name: bedrooms, dtype: int64"
            ]
          },
          "metadata": {},
          "execution_count": 224
        }
      ],
      "source": [
        "#melihat nilai dengan jumlah data terbanyak pada kolom 'bedrooms'\n",
        "dataFrame['bedrooms'].value_counts().sort_index(ascending=True)"
      ]
    },
    {
      "cell_type": "markdown",
      "metadata": {
        "id": "Hrx3s282t7I8"
      },
      "source": [
        "- mengubah tipe data kolom 'bathrooms' menjadi int karena data 'bathroom' tidak cocok dengan tipe data float\n",
        "- mengganti nilai 33 menjadi 3(nilai terbanyak) pada kolom 'bedrooms'"
      ]
    },
    {
      "cell_type": "code",
      "execution_count": 225,
      "metadata": {
        "id": "l-Mo1SWut7I9",
        "colab": {
          "base_uri": "https://localhost:8080/"
        },
        "outputId": "8a150b5d-8fd3-406f-ce44-e41fdaea98f9"
      },
      "outputs": [
        {
          "output_type": "execute_result",
          "data": {
            "text/plain": [
              "price          float64\n",
              "bedrooms         int64\n",
              "bathrooms        int64\n",
              "sqft_living      int64\n",
              "grade            int64\n",
              "yr_built         int64\n",
              "dtype: object"
            ]
          },
          "metadata": {},
          "execution_count": 225
        }
      ],
      "source": [
        "#mengubah tipe data kolom 'bathrooms' menjadi integer(int)\n",
        "dataFrame['bathrooms'] = dataFrame['bathrooms'].astype(int)\n",
        "dataFrame.dtypes"
      ]
    },
    {
      "cell_type": "code",
      "execution_count": 226,
      "metadata": {
        "id": "xUBhT8NCt7I9"
      },
      "outputs": [],
      "source": [
        "#mengubah nilai 33 pada kolom 'bedroom' menjadi 3\n",
        "dataFrame['bedrooms'] = dataFrame['bedrooms'].replace(33, 3)"
      ]
    },
    {
      "cell_type": "code",
      "execution_count": 227,
      "metadata": {
        "id": "el4J6JBKt7I-",
        "colab": {
          "base_uri": "https://localhost:8080/",
          "height": 49
        },
        "outputId": "72cfdadd-3f64-4c8a-9073-f9f8ca53204f"
      },
      "outputs": [
        {
          "output_type": "execute_result",
          "data": {
            "text/plain": [
              "Empty DataFrame\n",
              "Columns: [price, bedrooms, bathrooms, sqft_living, grade, yr_built]\n",
              "Index: []"
            ],
            "text/html": [
              "\n",
              "  <div id=\"df-723047c4-5c83-4233-a537-cabdfecef386\">\n",
              "    <div class=\"colab-df-container\">\n",
              "      <div>\n",
              "<style scoped>\n",
              "    .dataframe tbody tr th:only-of-type {\n",
              "        vertical-align: middle;\n",
              "    }\n",
              "\n",
              "    .dataframe tbody tr th {\n",
              "        vertical-align: top;\n",
              "    }\n",
              "\n",
              "    .dataframe thead th {\n",
              "        text-align: right;\n",
              "    }\n",
              "</style>\n",
              "<table border=\"1\" class=\"dataframe\">\n",
              "  <thead>\n",
              "    <tr style=\"text-align: right;\">\n",
              "      <th></th>\n",
              "      <th>price</th>\n",
              "      <th>bedrooms</th>\n",
              "      <th>bathrooms</th>\n",
              "      <th>sqft_living</th>\n",
              "      <th>grade</th>\n",
              "      <th>yr_built</th>\n",
              "    </tr>\n",
              "  </thead>\n",
              "  <tbody>\n",
              "  </tbody>\n",
              "</table>\n",
              "</div>\n",
              "      <button class=\"colab-df-convert\" onclick=\"convertToInteractive('df-723047c4-5c83-4233-a537-cabdfecef386')\"\n",
              "              title=\"Convert this dataframe to an interactive table.\"\n",
              "              style=\"display:none;\">\n",
              "        \n",
              "  <svg xmlns=\"http://www.w3.org/2000/svg\" height=\"24px\"viewBox=\"0 0 24 24\"\n",
              "       width=\"24px\">\n",
              "    <path d=\"M0 0h24v24H0V0z\" fill=\"none\"/>\n",
              "    <path d=\"M18.56 5.44l.94 2.06.94-2.06 2.06-.94-2.06-.94-.94-2.06-.94 2.06-2.06.94zm-11 1L8.5 8.5l.94-2.06 2.06-.94-2.06-.94L8.5 2.5l-.94 2.06-2.06.94zm10 10l.94 2.06.94-2.06 2.06-.94-2.06-.94-.94-2.06-.94 2.06-2.06.94z\"/><path d=\"M17.41 7.96l-1.37-1.37c-.4-.4-.92-.59-1.43-.59-.52 0-1.04.2-1.43.59L10.3 9.45l-7.72 7.72c-.78.78-.78 2.05 0 2.83L4 21.41c.39.39.9.59 1.41.59.51 0 1.02-.2 1.41-.59l7.78-7.78 2.81-2.81c.8-.78.8-2.07 0-2.86zM5.41 20L4 18.59l7.72-7.72 1.47 1.35L5.41 20z\"/>\n",
              "  </svg>\n",
              "      </button>\n",
              "      \n",
              "  <style>\n",
              "    .colab-df-container {\n",
              "      display:flex;\n",
              "      flex-wrap:wrap;\n",
              "      gap: 12px;\n",
              "    }\n",
              "\n",
              "    .colab-df-convert {\n",
              "      background-color: #E8F0FE;\n",
              "      border: none;\n",
              "      border-radius: 50%;\n",
              "      cursor: pointer;\n",
              "      display: none;\n",
              "      fill: #1967D2;\n",
              "      height: 32px;\n",
              "      padding: 0 0 0 0;\n",
              "      width: 32px;\n",
              "    }\n",
              "\n",
              "    .colab-df-convert:hover {\n",
              "      background-color: #E2EBFA;\n",
              "      box-shadow: 0px 1px 2px rgba(60, 64, 67, 0.3), 0px 1px 3px 1px rgba(60, 64, 67, 0.15);\n",
              "      fill: #174EA6;\n",
              "    }\n",
              "\n",
              "    [theme=dark] .colab-df-convert {\n",
              "      background-color: #3B4455;\n",
              "      fill: #D2E3FC;\n",
              "    }\n",
              "\n",
              "    [theme=dark] .colab-df-convert:hover {\n",
              "      background-color: #434B5C;\n",
              "      box-shadow: 0px 1px 3px 1px rgba(0, 0, 0, 0.15);\n",
              "      filter: drop-shadow(0px 1px 2px rgba(0, 0, 0, 0.3));\n",
              "      fill: #FFFFFF;\n",
              "    }\n",
              "  </style>\n",
              "\n",
              "      <script>\n",
              "        const buttonEl =\n",
              "          document.querySelector('#df-723047c4-5c83-4233-a537-cabdfecef386 button.colab-df-convert');\n",
              "        buttonEl.style.display =\n",
              "          google.colab.kernel.accessAllowed ? 'block' : 'none';\n",
              "\n",
              "        async function convertToInteractive(key) {\n",
              "          const element = document.querySelector('#df-723047c4-5c83-4233-a537-cabdfecef386');\n",
              "          const dataTable =\n",
              "            await google.colab.kernel.invokeFunction('convertToInteractive',\n",
              "                                                     [key], {});\n",
              "          if (!dataTable) return;\n",
              "\n",
              "          const docLinkHtml = 'Like what you see? Visit the ' +\n",
              "            '<a target=\"_blank\" href=https://colab.research.google.com/notebooks/data_table.ipynb>data table notebook</a>'\n",
              "            + ' to learn more about interactive tables.';\n",
              "          element.innerHTML = '';\n",
              "          dataTable['output_type'] = 'display_data';\n",
              "          await google.colab.output.renderOutput(dataTable, element);\n",
              "          const docLink = document.createElement('div');\n",
              "          docLink.innerHTML = docLinkHtml;\n",
              "          element.appendChild(docLink);\n",
              "        }\n",
              "      </script>\n",
              "    </div>\n",
              "  </div>\n",
              "  "
            ]
          },
          "metadata": {},
          "execution_count": 227
        }
      ],
      "source": [
        "#cek apakah kolom 'bedrooms' dengan nilai 33 sudah dihilangkan\n",
        "dataFrame[dataFrame['bedrooms'] == 33]"
      ]
    },
    {
      "cell_type": "markdown",
      "metadata": {
        "id": "Jy5S7atTt7I_"
      },
      "source": [
        "dari hasil diatas menunjukkan bahwa sudah tidak ada nilai 33 pada kolom 'bedrooms'"
      ]
    },
    {
      "cell_type": "markdown",
      "metadata": {
        "id": "PvYpnaqKt7I_"
      },
      "source": [
        "## 2. Data Preparation"
      ]
    },
    {
      "cell_type": "code",
      "execution_count": 228,
      "metadata": {
        "id": "TvhCPlQtt7JA",
        "colab": {
          "base_uri": "https://localhost:8080/"
        },
        "outputId": "d8844b0c-9b16-4536-9bad-5ccb8d05b29c"
      },
      "outputs": [
        {
          "output_type": "execute_result",
          "data": {
            "text/plain": [
              "price          0\n",
              "bedrooms       0\n",
              "bathrooms      0\n",
              "sqft_living    0\n",
              "grade          0\n",
              "yr_built       0\n",
              "dtype: int64"
            ]
          },
          "metadata": {},
          "execution_count": 228
        }
      ],
      "source": [
        "#melihat data yang kosong\n",
        "dataFrame.isnull().sum()"
      ]
    },
    {
      "cell_type": "markdown",
      "metadata": {
        "id": "nX1J5psot7JA"
      },
      "source": [
        "Dari hasil diatas tidak ada data yang kosong, sehingga tidak perlu melakukan penghapusan data"
      ]
    },
    {
      "cell_type": "markdown",
      "metadata": {
        "id": "VwGdZRq_t7JA"
      },
      "source": [
        "### EDA(Exploratory Data Analysis)\n",
        "Proses dalam data untuk melihat pola-pola tertentu"
      ]
    },
    {
      "cell_type": "code",
      "execution_count": 229,
      "metadata": {
        "id": "CPuK0pyIt7JB",
        "colab": {
          "base_uri": "https://localhost:8080/",
          "height": 206
        },
        "outputId": "4872b6f0-cd60-4ad9-d2d7-8e5025b16274"
      },
      "outputs": [
        {
          "output_type": "execute_result",
          "data": {
            "text/plain": [
              "      price  bedrooms  bathrooms  sqft_living  grade  yr_built\n",
              "0  221900.0         3          1         1180      7      1955\n",
              "1  538000.0         3          2         2570      7      1951\n",
              "2  180000.0         2          1          770      6      1933\n",
              "3  604000.0         4          3         1960      7      1965\n",
              "4  510000.0         3          2         1680      8      1987"
            ],
            "text/html": [
              "\n",
              "  <div id=\"df-3cce63cf-1d4e-4d51-81a8-52796b83ef89\">\n",
              "    <div class=\"colab-df-container\">\n",
              "      <div>\n",
              "<style scoped>\n",
              "    .dataframe tbody tr th:only-of-type {\n",
              "        vertical-align: middle;\n",
              "    }\n",
              "\n",
              "    .dataframe tbody tr th {\n",
              "        vertical-align: top;\n",
              "    }\n",
              "\n",
              "    .dataframe thead th {\n",
              "        text-align: right;\n",
              "    }\n",
              "</style>\n",
              "<table border=\"1\" class=\"dataframe\">\n",
              "  <thead>\n",
              "    <tr style=\"text-align: right;\">\n",
              "      <th></th>\n",
              "      <th>price</th>\n",
              "      <th>bedrooms</th>\n",
              "      <th>bathrooms</th>\n",
              "      <th>sqft_living</th>\n",
              "      <th>grade</th>\n",
              "      <th>yr_built</th>\n",
              "    </tr>\n",
              "  </thead>\n",
              "  <tbody>\n",
              "    <tr>\n",
              "      <th>0</th>\n",
              "      <td>221900.0</td>\n",
              "      <td>3</td>\n",
              "      <td>1</td>\n",
              "      <td>1180</td>\n",
              "      <td>7</td>\n",
              "      <td>1955</td>\n",
              "    </tr>\n",
              "    <tr>\n",
              "      <th>1</th>\n",
              "      <td>538000.0</td>\n",
              "      <td>3</td>\n",
              "      <td>2</td>\n",
              "      <td>2570</td>\n",
              "      <td>7</td>\n",
              "      <td>1951</td>\n",
              "    </tr>\n",
              "    <tr>\n",
              "      <th>2</th>\n",
              "      <td>180000.0</td>\n",
              "      <td>2</td>\n",
              "      <td>1</td>\n",
              "      <td>770</td>\n",
              "      <td>6</td>\n",
              "      <td>1933</td>\n",
              "    </tr>\n",
              "    <tr>\n",
              "      <th>3</th>\n",
              "      <td>604000.0</td>\n",
              "      <td>4</td>\n",
              "      <td>3</td>\n",
              "      <td>1960</td>\n",
              "      <td>7</td>\n",
              "      <td>1965</td>\n",
              "    </tr>\n",
              "    <tr>\n",
              "      <th>4</th>\n",
              "      <td>510000.0</td>\n",
              "      <td>3</td>\n",
              "      <td>2</td>\n",
              "      <td>1680</td>\n",
              "      <td>8</td>\n",
              "      <td>1987</td>\n",
              "    </tr>\n",
              "  </tbody>\n",
              "</table>\n",
              "</div>\n",
              "      <button class=\"colab-df-convert\" onclick=\"convertToInteractive('df-3cce63cf-1d4e-4d51-81a8-52796b83ef89')\"\n",
              "              title=\"Convert this dataframe to an interactive table.\"\n",
              "              style=\"display:none;\">\n",
              "        \n",
              "  <svg xmlns=\"http://www.w3.org/2000/svg\" height=\"24px\"viewBox=\"0 0 24 24\"\n",
              "       width=\"24px\">\n",
              "    <path d=\"M0 0h24v24H0V0z\" fill=\"none\"/>\n",
              "    <path d=\"M18.56 5.44l.94 2.06.94-2.06 2.06-.94-2.06-.94-.94-2.06-.94 2.06-2.06.94zm-11 1L8.5 8.5l.94-2.06 2.06-.94-2.06-.94L8.5 2.5l-.94 2.06-2.06.94zm10 10l.94 2.06.94-2.06 2.06-.94-2.06-.94-.94-2.06-.94 2.06-2.06.94z\"/><path d=\"M17.41 7.96l-1.37-1.37c-.4-.4-.92-.59-1.43-.59-.52 0-1.04.2-1.43.59L10.3 9.45l-7.72 7.72c-.78.78-.78 2.05 0 2.83L4 21.41c.39.39.9.59 1.41.59.51 0 1.02-.2 1.41-.59l7.78-7.78 2.81-2.81c.8-.78.8-2.07 0-2.86zM5.41 20L4 18.59l7.72-7.72 1.47 1.35L5.41 20z\"/>\n",
              "  </svg>\n",
              "      </button>\n",
              "      \n",
              "  <style>\n",
              "    .colab-df-container {\n",
              "      display:flex;\n",
              "      flex-wrap:wrap;\n",
              "      gap: 12px;\n",
              "    }\n",
              "\n",
              "    .colab-df-convert {\n",
              "      background-color: #E8F0FE;\n",
              "      border: none;\n",
              "      border-radius: 50%;\n",
              "      cursor: pointer;\n",
              "      display: none;\n",
              "      fill: #1967D2;\n",
              "      height: 32px;\n",
              "      padding: 0 0 0 0;\n",
              "      width: 32px;\n",
              "    }\n",
              "\n",
              "    .colab-df-convert:hover {\n",
              "      background-color: #E2EBFA;\n",
              "      box-shadow: 0px 1px 2px rgba(60, 64, 67, 0.3), 0px 1px 3px 1px rgba(60, 64, 67, 0.15);\n",
              "      fill: #174EA6;\n",
              "    }\n",
              "\n",
              "    [theme=dark] .colab-df-convert {\n",
              "      background-color: #3B4455;\n",
              "      fill: #D2E3FC;\n",
              "    }\n",
              "\n",
              "    [theme=dark] .colab-df-convert:hover {\n",
              "      background-color: #434B5C;\n",
              "      box-shadow: 0px 1px 3px 1px rgba(0, 0, 0, 0.15);\n",
              "      filter: drop-shadow(0px 1px 2px rgba(0, 0, 0, 0.3));\n",
              "      fill: #FFFFFF;\n",
              "    }\n",
              "  </style>\n",
              "\n",
              "      <script>\n",
              "        const buttonEl =\n",
              "          document.querySelector('#df-3cce63cf-1d4e-4d51-81a8-52796b83ef89 button.colab-df-convert');\n",
              "        buttonEl.style.display =\n",
              "          google.colab.kernel.accessAllowed ? 'block' : 'none';\n",
              "\n",
              "        async function convertToInteractive(key) {\n",
              "          const element = document.querySelector('#df-3cce63cf-1d4e-4d51-81a8-52796b83ef89');\n",
              "          const dataTable =\n",
              "            await google.colab.kernel.invokeFunction('convertToInteractive',\n",
              "                                                     [key], {});\n",
              "          if (!dataTable) return;\n",
              "\n",
              "          const docLinkHtml = 'Like what you see? Visit the ' +\n",
              "            '<a target=\"_blank\" href=https://colab.research.google.com/notebooks/data_table.ipynb>data table notebook</a>'\n",
              "            + ' to learn more about interactive tables.';\n",
              "          element.innerHTML = '';\n",
              "          dataTable['output_type'] = 'display_data';\n",
              "          await google.colab.output.renderOutput(dataTable, element);\n",
              "          const docLink = document.createElement('div');\n",
              "          docLink.innerHTML = docLinkHtml;\n",
              "          element.appendChild(docLink);\n",
              "        }\n",
              "      </script>\n",
              "    </div>\n",
              "  </div>\n",
              "  "
            ]
          },
          "metadata": {},
          "execution_count": 229
        }
      ],
      "source": [
        "dataFrame.head()"
      ]
    },
    {
      "cell_type": "markdown",
      "metadata": {
        "id": "M-hIOEJIt7JB"
      },
      "source": [
        "Melakukan univariate analysis, berfungsi untuk menganalisa tiap variabel tanpa dihubungkan dengan variabel lain."
      ]
    },
    {
      "cell_type": "code",
      "execution_count": 231,
      "metadata": {
        "id": "Htop83jDt7JC",
        "colab": {
          "base_uri": "https://localhost:8080/",
          "height": 334
        },
        "outputId": "c855d887-422b-476e-dc15-7d588388a2c3"
      },
      "outputs": [
        {
          "output_type": "stream",
          "name": "stderr",
          "text": [
            "/usr/local/lib/python3.7/dist-packages/seaborn/_decorators.py:43: FutureWarning: Pass the following variable as a keyword arg: x. From version 0.12, the only valid positional argument will be `data`, and passing other arguments without an explicit keyword will result in an error or misinterpretation.\n",
            "  FutureWarning\n"
          ]
        },
        {
          "output_type": "display_data",
          "data": {
            "text/plain": [
              "<Figure size 864x288 with 2 Axes>"
            ],
            "image/png": "[encoded data removed]"
          },
          "metadata": {
            "needs_background": "light"
          }
        }
      ],
      "source": [
        "#menggunakan subplot untuk menampilkan\n",
        "f = plt.figure(figsize=(12,4))\n",
        "\n",
        "# add_subplot(baris, kolom, posisi)\n",
        "\n",
        "#plot kiri\n",
        "f.add_subplot(1,2,1)\n",
        "sns.countplot(dataFrame['bedrooms'])\n",
        "\n",
        "#plot kanan\n",
        "f.add_subplot(1,2,2)\n",
        "#membuat boxplot untuk kolom 'bedrooms'\n",
        "plt.boxplot(dataFrame['bedrooms'])\n",
        "plt.show()\n"
      ]
    },
    {
      "cell_type": "markdown",
      "metadata": {
        "id": "K_ykQzxbt7JC"
      },
      "source": [
        "informasi:\n",
        "- kebanyakan jumlah bedrooms dalam rumah adalah 3 dan 4\n",
        "- banyak memiliki outliers dilihat dari data diluar garis minimum dan maksimum"
      ]
    },
    {
      "cell_type": "code",
      "execution_count": 232,
      "metadata": {
        "id": "TzitNay_t7JC",
        "colab": {
          "base_uri": "https://localhost:8080/",
          "height": 334
        },
        "outputId": "6d0e66d9-622c-4431-f4bb-fcdad1fb50d7"
      },
      "outputs": [
        {
          "output_type": "stream",
          "name": "stderr",
          "text": [
            "/usr/local/lib/python3.7/dist-packages/seaborn/_decorators.py:43: FutureWarning: Pass the following variable as a keyword arg: x. From version 0.12, the only valid positional argument will be `data`, and passing other arguments without an explicit keyword will result in an error or misinterpretation.\n",
            "  FutureWarning\n"
          ]
        },
        {
          "output_type": "display_data",
          "data": {
            "text/plain": [
              "<Figure size 864x288 with 2 Axes>"
            ],
            "image/png": "[encoded data removed]"
          },
          "metadata": {
            "needs_background": "light"
          }
        }
      ],
      "source": [
        "# univariate analysis variabel 'bathrooms'\n",
        "# melihat persebaran data pada kolom 'bathrooms' dengan plot\n",
        "f = plt.figure(figsize=(12,4))\n",
        "\n",
        "# add_subplot(baris, kolom, posisi)\n",
        "f.add_subplot(1,2,1)\n",
        "sns.countplot(dataFrame['bathrooms'])\n",
        "\n",
        "f.add_subplot(1,2,2)\n",
        "#membuat boxplot untuk kolom 'bathrooms'\n",
        "plt.boxplot(dataFrame['bathrooms'])\n",
        "plt.show()"
      ]
    },
    {
      "cell_type": "markdown",
      "metadata": {
        "id": "n1XWASqgt7JD"
      },
      "source": [
        "informasi:\n",
        "- kebanyakan jumlah bathrooms dalam rumah adalah 1 dan 2\n",
        "- ada beberapa outliers dilihat dari data diluar garis maksimum"
      ]
    },
    {
      "cell_type": "code",
      "execution_count": 233,
      "metadata": {
        "id": "NJj0Oucet7JD",
        "colab": {
          "base_uri": "https://localhost:8080/"
        },
        "outputId": "d72f49ea-77ad-431e-cd4e-e58d77d15e6e"
      },
      "outputs": [
        {
          "output_type": "execute_result",
          "data": {
            "text/plain": [
              "0       86\n",
              "1     8355\n",
              "2    10542\n",
              "3     2228\n",
              "4      338\n",
              "5       48\n",
              "6       12\n",
              "7        2\n",
              "8        2\n",
              "Name: bathrooms, dtype: int64"
            ]
          },
          "metadata": {},
          "execution_count": 233
        }
      ],
      "source": [
        "#melihat nilai tertinggi pada kolom 'bathrooms'\n",
        "dataFrame['bathrooms'].value_counts().sort_index(ascending=True)"
      ]
    },
    {
      "cell_type": "code",
      "execution_count": 234,
      "metadata": {
        "id": "pNysn2avt7JD",
        "colab": {
          "base_uri": "https://localhost:8080/",
          "height": 280
        },
        "outputId": "c7205b87-d9de-452e-f18b-c53e7c218a23"
      },
      "outputs": [
        {
          "output_type": "display_data",
          "data": {
            "text/plain": [
              "<Figure size 864x288 with 2 Axes>"
            ],
            "image/png": "[encoded data removed]"
          },
          "metadata": {
            "needs_background": "light"
          }
        }
      ],
      "source": [
        "#univariate analysis variabel 'sqft_living'\n",
        "# melihat persebaran data pada kolom 'sqft_living' dengan plot\n",
        "from matplotlib.pyplot import xlabel\n",
        "\n",
        "\n",
        "f = plt.figure(figsize=(12,4))\n",
        "\n",
        "# add_subplot(baris, kolom, posisi)\n",
        "f.add_subplot(1,2,1)\n",
        "dataFrame['sqft_living'].plot(kind='kde')\n",
        "plt.xlabel('luas')\n",
        "\n",
        "f.add_subplot(1,2,2)\n",
        "#membuat boxplot untuk kolom 'sqft_living'\n",
        "plt.boxplot(dataFrame['sqft_living'])\n",
        "plt.show()"
      ]
    },
    {
      "cell_type": "markdown",
      "metadata": {
        "id": "1neUkpQBt7JE"
      },
      "source": [
        "informasi:\n",
        "- density(kepadatan) dari luas rumah(sqft_living) ada di angka 2000an\n",
        "- dilihat dari boxplot, ada banyak outliers di atas garis maksimum"
      ]
    },
    {
      "cell_type": "code",
      "execution_count": 235,
      "metadata": {
        "id": "nk9981jBt7JE",
        "colab": {
          "base_uri": "https://localhost:8080/",
          "height": 334
        },
        "outputId": "788347ee-40ec-4fc1-b24e-8e568431c655"
      },
      "outputs": [
        {
          "output_type": "stream",
          "name": "stderr",
          "text": [
            "/usr/local/lib/python3.7/dist-packages/seaborn/_decorators.py:43: FutureWarning: Pass the following variable as a keyword arg: x. From version 0.12, the only valid positional argument will be `data`, and passing other arguments without an explicit keyword will result in an error or misinterpretation.\n",
            "  FutureWarning\n"
          ]
        },
        {
          "output_type": "display_data",
          "data": {
            "text/plain": [
              "<Figure size 864x288 with 2 Axes>"
            ],
            "image/png": "[encoded data removed]"
          },
          "metadata": {
            "needs_background": "light"
          }
        }
      ],
      "source": [
        "# univariate analysis grade\n",
        "# melihat distribusi dari grade\n",
        "f = plt.figure(figsize=(12,4))\n",
        "\n",
        "f.add_subplot(1,2,1)\n",
        "sns.countplot(df['grade'])\n",
        "\n",
        "f.add_subplot(1,2,2)\n",
        "plt.boxplot(df['grade'])\n",
        "plt.show()"
      ]
    },
    {
      "cell_type": "markdown",
      "metadata": {
        "id": "IxdGR20pt7JF"
      },
      "source": [
        "informasi:\n",
        "- kebanyakan rumah memiliki grade 7 dan 8\n",
        "- boxplot menunjukkan ada outlier di bawah garis minimum dan diatas garis maksimum"
      ]
    },
    {
      "cell_type": "code",
      "execution_count": 236,
      "metadata": {
        "id": "uk6b3IbHt7JF",
        "colab": {
          "base_uri": "https://localhost:8080/"
        },
        "outputId": "fb1be14d-3b66-4455-b88b-af3090b2dd85"
      },
      "outputs": [
        {
          "output_type": "execute_result",
          "data": {
            "text/plain": [
              "1        1\n",
              "3        3\n",
              "4       29\n",
              "5      242\n",
              "6     2038\n",
              "7     8981\n",
              "8     6068\n",
              "9     2615\n",
              "10    1134\n",
              "11     399\n",
              "12      90\n",
              "13      13\n",
              "Name: grade, dtype: int64"
            ]
          },
          "metadata": {},
          "execution_count": 236
        }
      ],
      "source": [
        "dataFrame['grade'].value_counts().sort_index(ascending = True)"
      ]
    },
    {
      "cell_type": "code",
      "execution_count": 237,
      "metadata": {
        "id": "nHEHJcNXt7JF",
        "colab": {
          "base_uri": "https://localhost:8080/",
          "height": 554
        },
        "outputId": "2c48ade5-f897-44fe-cf7d-60008757fe03"
      },
      "outputs": [
        {
          "output_type": "stream",
          "name": "stderr",
          "text": [
            "/usr/local/lib/python3.7/dist-packages/seaborn/_decorators.py:43: FutureWarning: Pass the following variable as a keyword arg: x. From version 0.12, the only valid positional argument will be `data`, and passing other arguments without an explicit keyword will result in an error or misinterpretation.\n",
            "  FutureWarning\n"
          ]
        },
        {
          "output_type": "display_data",
          "data": {
            "text/plain": [
              "<Figure size 1440x576 with 2 Axes>"
            ],
            "image/png": "[encoded data removed]"
          },
          "metadata": {
            "needs_background": "light"
          }
        }
      ],
      "source": [
        "# univariate analysis kolom 'yr_built'\n",
        "# melihat distribusi dari kolom 'yr_built'\n",
        "\n",
        "f = plt.figure(figsize=(20,8))\n",
        "\n",
        "f.add_subplot(1,2,1)\n",
        "sns.countplot(dataFrame['yr_built'])\n",
        "\n",
        "f.add_subplot(1,2,2)\n",
        "plt.boxplot(dataFrame['yr_built'])\n",
        "plt.show()"
      ]
    },
    {
      "cell_type": "markdown",
      "metadata": {
        "id": "LC3uf8pdt7JG"
      },
      "source": [
        "informasi:\n",
        "- rumah dengan 'yr_built' tua cukup sedikit yang dijual\n",
        "- rumah dengan 'yr_built' paling muda juga cukup sedikit yang dijual\n",
        "- dari boxplot yang dihasilkan, tidak ada outliers dari kolom tersebut"
      ]
    },
    {
      "cell_type": "code",
      "execution_count": 238,
      "metadata": {
        "id": "acx_fmYct7JG",
        "colab": {
          "base_uri": "https://localhost:8080/"
        },
        "outputId": "6dedfc3d-2d82-4586-9de5-10eb8c3356b5"
      },
      "outputs": [
        {
          "output_type": "execute_result",
          "data": {
            "text/plain": [
              "2014    559\n",
              "2006    454\n",
              "2005    450\n",
              "2004    433\n",
              "2003    422\n",
              "       ... \n",
              "1933     30\n",
              "1901     29\n",
              "1902     27\n",
              "1935     24\n",
              "1934     21\n",
              "Name: yr_built, Length: 116, dtype: int64"
            ]
          },
          "metadata": {},
          "execution_count": 238
        }
      ],
      "source": [
        "dataFrame['yr_built'].value_counts()"
      ]
    },
    {
      "cell_type": "markdown",
      "metadata": {
        "id": "g-a_HAWKt7JG"
      },
      "source": [
        "dari informasi diatas menunjukkan bahwa rumah yang paling banyak dijual adalah rumah dengan 'yr_built' 2014'"
      ]
    },
    {
      "cell_type": "code",
      "execution_count": 239,
      "metadata": {
        "id": "yS1gFbO2t7JG",
        "colab": {
          "base_uri": "https://localhost:8080/"
        },
        "outputId": "3361385d-19e0-4d25-a875-90d466d19c82"
      },
      "outputs": [
        {
          "output_type": "execute_result",
          "data": {
            "text/plain": [
              "2015"
            ]
          },
          "metadata": {},
          "execution_count": 239
        }
      ],
      "source": [
        "dataFrame['yr_built'].max()\n"
      ]
    },
    {
      "cell_type": "code",
      "execution_count": 240,
      "metadata": {
        "id": "e_o_D2Nxt7JH",
        "colab": {
          "base_uri": "https://localhost:8080/"
        },
        "outputId": "d6b9811c-e55d-46e2-9a53-cf113bfbbcf0"
      },
      "outputs": [
        {
          "output_type": "execute_result",
          "data": {
            "text/plain": [
              "1900"
            ]
          },
          "metadata": {},
          "execution_count": 240
        }
      ],
      "source": [
        "dataFrame['yr_built'].min()"
      ]
    },
    {
      "cell_type": "code",
      "execution_count": 241,
      "metadata": {
        "id": "VEosnklst7JH",
        "colab": {
          "base_uri": "https://localhost:8080/"
        },
        "outputId": "264dfa8f-692a-48ee-b67f-238302340b3e"
      },
      "outputs": [
        {
          "output_type": "execute_result",
          "data": {
            "text/plain": [
              "1900     87\n",
              "1901     29\n",
              "1902     27\n",
              "1903     46\n",
              "1904     45\n",
              "       ... \n",
              "2011    130\n",
              "2012    170\n",
              "2013    201\n",
              "2014    559\n",
              "2015     38\n",
              "Name: yr_built, Length: 116, dtype: int64"
            ]
          },
          "metadata": {},
          "execution_count": 241
        }
      ],
      "source": [
        "dataFrame['yr_built'].value_counts().sort_index(ascending = True)"
      ]
    },
    {
      "cell_type": "markdown",
      "metadata": {
        "id": "rBxZSB_Tt7JH"
      },
      "source": [
        "Bivariate analysis untuk melihat hubungan masing-masing variabel independen dan variabel dependen\n"
      ]
    },
    {
      "cell_type": "code",
      "execution_count": 242,
      "metadata": {
        "id": "LBRJ8SMut7JI",
        "colab": {
          "base_uri": "https://localhost:8080/",
          "height": 426
        },
        "outputId": "53af1eba-e07e-45c4-a954-3c3faa4f7b7f"
      },
      "outputs": [
        {
          "output_type": "stream",
          "name": "stderr",
          "text": [
            "/usr/local/lib/python3.7/dist-packages/seaborn/axisgrid.py:2076: UserWarning: The `size` parameter has been renamed to `height`; please update your code.\n",
            "  warnings.warn(msg, UserWarning)\n"
          ]
        },
        {
          "output_type": "execute_result",
          "data": {
            "text/plain": [
              "<seaborn.axisgrid.PairGrid at 0x7f9c80a24f10>"
            ]
          },
          "metadata": {},
          "execution_count": 242
        },
        {
          "output_type": "display_data",
          "data": {
            "text/plain": [
              "<Figure size 1260x360 with 5 Axes>"
            ],
            "image/png": "[encoded data removed]"
          },
          "metadata": {
            "needs_background": "light"
          }
        }
      ],
      "source": [
        "plt.Figure(figsize=(10, 8))\n",
        "sns.pairplot(data=dataFrame,\n",
        "             x_vars=['bedrooms', 'bathrooms', 'sqft_living', 'grade', 'yr_built'], \n",
        "             y_vars=['price'],\n",
        "             size=5,\n",
        "             aspect=0.7)"
      ]
    },
    {
      "cell_type": "code",
      "execution_count": 243,
      "metadata": {
        "id": "6LprWHJlt7JI",
        "colab": {
          "base_uri": "https://localhost:8080/",
          "height": 330
        },
        "outputId": "e8911abf-30f1-47ef-ade3-235ae7c51b70"
      },
      "outputs": [
        {
          "output_type": "execute_result",
          "data": {
            "text/plain": [
              "<matplotlib.axes._subplots.AxesSubplot at 0x7f9c803dc050>"
            ]
          },
          "metadata": {},
          "execution_count": 243
        },
        {
          "output_type": "display_data",
          "data": {
            "text/plain": [
              "<Figure size 432x288 with 2 Axes>"
            ],
            "image/png": "[encoded data removed]"
          },
          "metadata": {
            "needs_background": "light"
          }
        }
      ],
      "source": [
        "#heatmap untuk dataFrame, melihat korelasi dari variabel independen dan dependen\n",
        "plt.Figure(figsize=(10, 8))\n",
        "sns.heatmap(dataFrame.corr(), annot=True)"
      ]
    },
    {
      "cell_type": "code",
      "execution_count": 244,
      "metadata": {
        "id": "cCXHI4lTt7JI",
        "colab": {
          "base_uri": "https://localhost:8080/"
        },
        "outputId": "c4053078-34cb-471a-96c9-7d21c35b1261"
      },
      "outputs": [
        {
          "output_type": "stream",
          "name": "stdout",
          "text": [
            "Looking in indexes: https://pypi.org/simple, https://us-python.pkg.dev/colab-wheels/public/simple/\n",
            "Requirement already satisfied: Jinja2 in /usr/local/lib/python3.7/dist-packages (2.11.3)\n",
            "Requirement already satisfied: MarkupSafe>=0.23 in /usr/local/lib/python3.7/dist-packages (from Jinja2) (2.0.1)\n"
          ]
        }
      ],
      "source": [
        "pip install Jinja2"
      ]
    },
    {
      "cell_type": "code",
      "execution_count": 245,
      "metadata": {
        "id": "OKanxxPft7JJ",
        "colab": {
          "base_uri": "https://localhost:8080/",
          "height": 238
        },
        "outputId": "b08b505d-743b-4d26-c2ac-cb046c0d8c75"
      },
      "outputs": [
        {
          "output_type": "execute_result",
          "data": {
            "text/plain": [
              "<pandas.io.formats.style.Styler at 0x7f9c803dced0>"
            ],
            "text/html": [
              "<style type=\"text/css\">\n",
              "#T_0457f_row0_col0, #T_0457f_row1_col1, #T_0457f_row2_col2, #T_0457f_row3_col3, #T_0457f_row4_col4, #T_0457f_row5_col5 {\n",
              "  background-color: #b40426;\n",
              "  color: #f1f1f1;\n",
              "}\n",
              "#T_0457f_row0_col1 {\n",
              "  background-color: #7699f6;\n",
              "  color: #f1f1f1;\n",
              "}\n",
              "#T_0457f_row0_col2 {\n",
              "  background-color: #6485ec;\n",
              "  color: #f1f1f1;\n",
              "}\n",
              "#T_0457f_row0_col3 {\n",
              "  background-color: #ecd3c5;\n",
              "  color: #000000;\n",
              "}\n",
              "#T_0457f_row0_col4 {\n",
              "  background-color: #d6dce4;\n",
              "  color: #000000;\n",
              "}\n",
              "#T_0457f_row0_col5, #T_0457f_row1_col4, #T_0457f_row5_col0, #T_0457f_row5_col1, #T_0457f_row5_col2, #T_0457f_row5_col3 {\n",
              "  background-color: #3b4cc0;\n",
              "  color: #f1f1f1;\n",
              "}\n",
              "#T_0457f_row1_col0 {\n",
              "  background-color: #96b7ff;\n",
              "  color: #000000;\n",
              "}\n",
              "#T_0457f_row1_col2 {\n",
              "  background-color: #5470de;\n",
              "  color: #f1f1f1;\n",
              "}\n",
              "#T_0457f_row1_col3, #T_0457f_row2_col5 {\n",
              "  background-color: #c0d4f5;\n",
              "  color: #000000;\n",
              "}\n",
              "#T_0457f_row1_col5 {\n",
              "  background-color: #5d7ce6;\n",
              "  color: #f1f1f1;\n",
              "}\n",
              "#T_0457f_row2_col0 {\n",
              "  background-color: #d8dce2;\n",
              "  color: #000000;\n",
              "}\n",
              "#T_0457f_row2_col1, #T_0457f_row2_col4 {\n",
              "  background-color: #bad0f8;\n",
              "  color: #000000;\n",
              "}\n",
              "#T_0457f_row2_col3 {\n",
              "  background-color: #ead4c8;\n",
              "  color: #000000;\n",
              "}\n",
              "#T_0457f_row3_col0 {\n",
              "  background-color: #f7b194;\n",
              "  color: #000000;\n",
              "}\n",
              "#T_0457f_row3_col1 {\n",
              "  background-color: #e0dbd8;\n",
              "  color: #000000;\n",
              "}\n",
              "#T_0457f_row3_col2 {\n",
              "  background-color: #d4dbe6;\n",
              "  color: #000000;\n",
              "}\n",
              "#T_0457f_row3_col4 {\n",
              "  background-color: #f5c4ac;\n",
              "  color: #000000;\n",
              "}\n",
              "#T_0457f_row3_col5 {\n",
              "  background-color: #97b8ff;\n",
              "  color: #000000;\n",
              "}\n",
              "#T_0457f_row4_col0, #T_0457f_row4_col3 {\n",
              "  background-color: #f6bda2;\n",
              "  color: #000000;\n",
              "}\n",
              "#T_0457f_row4_col1 {\n",
              "  background-color: #8caffe;\n",
              "  color: #000000;\n",
              "}\n",
              "#T_0457f_row4_col2 {\n",
              "  background-color: #a1c0ff;\n",
              "  color: #000000;\n",
              "}\n",
              "#T_0457f_row4_col5 {\n",
              "  background-color: #c5d6f2;\n",
              "  color: #000000;\n",
              "}\n",
              "#T_0457f_row5_col4 {\n",
              "  background-color: #6282ea;\n",
              "  color: #f1f1f1;\n",
              "}\n",
              "</style>\n",
              "<table id=\"T_0457f_\" class=\"dataframe\">\n",
              "  <thead>\n",
              "    <tr>\n",
              "      <th class=\"blank level0\" >&nbsp;</th>\n",
              "      <th class=\"col_heading level0 col0\" >price</th>\n",
              "      <th class=\"col_heading level0 col1\" >bedrooms</th>\n",
              "      <th class=\"col_heading level0 col2\" >bathrooms</th>\n",
              "      <th class=\"col_heading level0 col3\" >sqft_living</th>\n",
              "      <th class=\"col_heading level0 col4\" >grade</th>\n",
              "      <th class=\"col_heading level0 col5\" >yr_built</th>\n",
              "    </tr>\n",
              "  </thead>\n",
              "  <tbody>\n",
              "    <tr>\n",
              "      <th id=\"T_0457f_level0_row0\" class=\"row_heading level0 row0\" >price</th>\n",
              "      <td id=\"T_0457f_row0_col0\" class=\"data row0 col0\" >1.000000</td>\n",
              "      <td id=\"T_0457f_row0_col1\" class=\"data row0 col1\" >0.315438</td>\n",
              "      <td id=\"T_0457f_row0_col2\" class=\"data row0 col2\" >0.510072</td>\n",
              "      <td id=\"T_0457f_row0_col3\" class=\"data row0 col3\" >0.702035</td>\n",
              "      <td id=\"T_0457f_row0_col4\" class=\"data row0 col4\" >0.667434</td>\n",
              "      <td id=\"T_0457f_row0_col5\" class=\"data row0 col5\" >0.054012</td>\n",
              "    </tr>\n",
              "    <tr>\n",
              "      <th id=\"T_0457f_level0_row1\" class=\"row_heading level0 row1\" >bedrooms</th>\n",
              "      <td id=\"T_0457f_row1_col0\" class=\"data row1 col0\" >0.315438</td>\n",
              "      <td id=\"T_0457f_row1_col1\" class=\"data row1 col1\" >1.000000</td>\n",
              "      <td id=\"T_0457f_row1_col2\" class=\"data row1 col2\" >0.480389</td>\n",
              "      <td id=\"T_0457f_row1_col3\" class=\"data row1 col3\" >0.591471</td>\n",
              "      <td id=\"T_0457f_row1_col4\" class=\"data row1 col4\" >0.366509</td>\n",
              "      <td id=\"T_0457f_row1_col5\" class=\"data row1 col5\" >0.159180</td>\n",
              "    </tr>\n",
              "    <tr>\n",
              "      <th id=\"T_0457f_level0_row2\" class=\"row_heading level0 row2\" >bathrooms</th>\n",
              "      <td id=\"T_0457f_row2_col0\" class=\"data row2 col0\" >0.510072</td>\n",
              "      <td id=\"T_0457f_row2_col1\" class=\"data row2 col1\" >0.480389</td>\n",
              "      <td id=\"T_0457f_row2_col2\" class=\"data row2 col2\" >1.000000</td>\n",
              "      <td id=\"T_0457f_row2_col3\" class=\"data row2 col3\" >0.697875</td>\n",
              "      <td id=\"T_0457f_row2_col4\" class=\"data row2 col4\" >0.606631</td>\n",
              "      <td id=\"T_0457f_row2_col5\" class=\"data row2 col5\" >0.433647</td>\n",
              "    </tr>\n",
              "    <tr>\n",
              "      <th id=\"T_0457f_level0_row3\" class=\"row_heading level0 row3\" >sqft_living</th>\n",
              "      <td id=\"T_0457f_row3_col0\" class=\"data row3 col0\" >0.702035</td>\n",
              "      <td id=\"T_0457f_row3_col1\" class=\"data row3 col1\" >0.591471</td>\n",
              "      <td id=\"T_0457f_row3_col2\" class=\"data row3 col2\" >0.697875</td>\n",
              "      <td id=\"T_0457f_row3_col3\" class=\"data row3 col3\" >1.000000</td>\n",
              "      <td id=\"T_0457f_row3_col4\" class=\"data row3 col4\" >0.762704</td>\n",
              "      <td id=\"T_0457f_row3_col5\" class=\"data row3 col5\" >0.318049</td>\n",
              "    </tr>\n",
              "    <tr>\n",
              "      <th id=\"T_0457f_level0_row4\" class=\"row_heading level0 row4\" >grade</th>\n",
              "      <td id=\"T_0457f_row4_col0\" class=\"data row4 col0\" >0.667434</td>\n",
              "      <td id=\"T_0457f_row4_col1\" class=\"data row4 col1\" >0.366509</td>\n",
              "      <td id=\"T_0457f_row4_col2\" class=\"data row4 col2\" >0.606631</td>\n",
              "      <td id=\"T_0457f_row4_col3\" class=\"data row4 col3\" >0.762704</td>\n",
              "      <td id=\"T_0457f_row4_col4\" class=\"data row4 col4\" >1.000000</td>\n",
              "      <td id=\"T_0457f_row4_col5\" class=\"data row4 col5\" >0.446963</td>\n",
              "    </tr>\n",
              "    <tr>\n",
              "      <th id=\"T_0457f_level0_row5\" class=\"row_heading level0 row5\" >yr_built</th>\n",
              "      <td id=\"T_0457f_row5_col0\" class=\"data row5 col0\" >0.054012</td>\n",
              "      <td id=\"T_0457f_row5_col1\" class=\"data row5 col1\" >0.159180</td>\n",
              "      <td id=\"T_0457f_row5_col2\" class=\"data row5 col2\" >0.433647</td>\n",
              "      <td id=\"T_0457f_row5_col3\" class=\"data row5 col3\" >0.318049</td>\n",
              "      <td id=\"T_0457f_row5_col4\" class=\"data row5 col4\" >0.446963</td>\n",
              "      <td id=\"T_0457f_row5_col5\" class=\"data row5 col5\" >1.000000</td>\n",
              "    </tr>\n",
              "  </tbody>\n",
              "</table>\n"
            ]
          },
          "metadata": {},
          "execution_count": 245
        }
      ],
      "source": [
        "#melihat nilai korelasi dari variabel independen dan dependen\n",
        "dataFrame.corr().style.background_gradient(cmap='coolwarm')"
      ]
    },
    {
      "cell_type": "markdown",
      "metadata": {
        "id": "8AqqynTtt7JJ"
      },
      "source": [
        "## 3. Modelling"
      ]
    },
    {
      "cell_type": "code",
      "execution_count": 340,
      "metadata": {
        "id": "poHhiKQXt7JJ",
        "colab": {
          "base_uri": "https://localhost:8080/",
          "height": 206
        },
        "outputId": "cb874e30-fe18-48de-a94c-ab505aec5d2e"
      },
      "outputs": [
        {
          "output_type": "execute_result",
          "data": {
            "text/plain": [
              "      price  bedrooms  bathrooms  sqft_living  grade  yr_built\n",
              "0  221900.0         3          1         1180      7      1955\n",
              "1  538000.0         3          2         2570      7      1951\n",
              "2  180000.0         2          1          770      6      1933\n",
              "3  604000.0         4          3         1960      7      1965\n",
              "4  510000.0         3          2         1680      8      1987"
            ],
            "text/html": [
              "\n",
              "  <div id=\"df-f08d409a-208c-4bc1-9cfa-b1835e4a0b91\">\n",
              "    <div class=\"colab-df-container\">\n",
              "      <div>\n",
              "<style scoped>\n",
              "    .dataframe tbody tr th:only-of-type {\n",
              "        vertical-align: middle;\n",
              "    }\n",
              "\n",
              "    .dataframe tbody tr th {\n",
              "        vertical-align: top;\n",
              "    }\n",
              "\n",
              "    .dataframe thead th {\n",
              "        text-align: right;\n",
              "    }\n",
              "</style>\n",
              "<table border=\"1\" class=\"dataframe\">\n",
              "  <thead>\n",
              "    <tr style=\"text-align: right;\">\n",
              "      <th></th>\n",
              "      <th>price</th>\n",
              "      <th>bedrooms</th>\n",
              "      <th>bathrooms</th>\n",
              "      <th>sqft_living</th>\n",
              "      <th>grade</th>\n",
              "      <th>yr_built</th>\n",
              "    </tr>\n",
              "  </thead>\n",
              "  <tbody>\n",
              "    <tr>\n",
              "      <th>0</th>\n",
              "      <td>221900.0</td>\n",
              "      <td>3</td>\n",
              "      <td>1</td>\n",
              "      <td>1180</td>\n",
              "      <td>7</td>\n",
              "      <td>1955</td>\n",
              "    </tr>\n",
              "    <tr>\n",
              "      <th>1</th>\n",
              "      <td>538000.0</td>\n",
              "      <td>3</td>\n",
              "      <td>2</td>\n",
              "      <td>2570</td>\n",
              "      <td>7</td>\n",
              "      <td>1951</td>\n",
              "    </tr>\n",
              "    <tr>\n",
              "      <th>2</th>\n",
              "      <td>180000.0</td>\n",
              "      <td>2</td>\n",
              "      <td>1</td>\n",
              "      <td>770</td>\n",
              "      <td>6</td>\n",
              "      <td>1933</td>\n",
              "    </tr>\n",
              "    <tr>\n",
              "      <th>3</th>\n",
              "      <td>604000.0</td>\n",
              "      <td>4</td>\n",
              "      <td>3</td>\n",
              "      <td>1960</td>\n",
              "      <td>7</td>\n",
              "      <td>1965</td>\n",
              "    </tr>\n",
              "    <tr>\n",
              "      <th>4</th>\n",
              "      <td>510000.0</td>\n",
              "      <td>3</td>\n",
              "      <td>2</td>\n",
              "      <td>1680</td>\n",
              "      <td>8</td>\n",
              "      <td>1987</td>\n",
              "    </tr>\n",
              "  </tbody>\n",
              "</table>\n",
              "</div>\n",
              "      <button class=\"colab-df-convert\" onclick=\"convertToInteractive('df-f08d409a-208c-4bc1-9cfa-b1835e4a0b91')\"\n",
              "              title=\"Convert this dataframe to an interactive table.\"\n",
              "              style=\"display:none;\">\n",
              "        \n",
              "  <svg xmlns=\"http://www.w3.org/2000/svg\" height=\"24px\"viewBox=\"0 0 24 24\"\n",
              "       width=\"24px\">\n",
              "    <path d=\"M0 0h24v24H0V0z\" fill=\"none\"/>\n",
              "    <path d=\"M18.56 5.44l.94 2.06.94-2.06 2.06-.94-2.06-.94-.94-2.06-.94 2.06-2.06.94zm-11 1L8.5 8.5l.94-2.06 2.06-.94-2.06-.94L8.5 2.5l-.94 2.06-2.06.94zm10 10l.94 2.06.94-2.06 2.06-.94-2.06-.94-.94-2.06-.94 2.06-2.06.94z\"/><path d=\"M17.41 7.96l-1.37-1.37c-.4-.4-.92-.59-1.43-.59-.52 0-1.04.2-1.43.59L10.3 9.45l-7.72 7.72c-.78.78-.78 2.05 0 2.83L4 21.41c.39.39.9.59 1.41.59.51 0 1.02-.2 1.41-.59l7.78-7.78 2.81-2.81c.8-.78.8-2.07 0-2.86zM5.41 20L4 18.59l7.72-7.72 1.47 1.35L5.41 20z\"/>\n",
              "  </svg>\n",
              "      </button>\n",
              "      \n",
              "  <style>\n",
              "    .colab-df-container {\n",
              "      display:flex;\n",
              "      flex-wrap:wrap;\n",
              "      gap: 12px;\n",
              "    }\n",
              "\n",
              "    .colab-df-convert {\n",
              "      background-color: #E8F0FE;\n",
              "      border: none;\n",
              "      border-radius: 50%;\n",
              "      cursor: pointer;\n",
              "      display: none;\n",
              "      fill: #1967D2;\n",
              "      height: 32px;\n",
              "      padding: 0 0 0 0;\n",
              "      width: 32px;\n",
              "    }\n",
              "\n",
              "    .colab-df-convert:hover {\n",
              "      background-color: #E2EBFA;\n",
              "      box-shadow: 0px 1px 2px rgba(60, 64, 67, 0.3), 0px 1px 3px 1px rgba(60, 64, 67, 0.15);\n",
              "      fill: #174EA6;\n",
              "    }\n",
              "\n",
              "    [theme=dark] .colab-df-convert {\n",
              "      background-color: #3B4455;\n",
              "      fill: #D2E3FC;\n",
              "    }\n",
              "\n",
              "    [theme=dark] .colab-df-convert:hover {\n",
              "      background-color: #434B5C;\n",
              "      box-shadow: 0px 1px 3px 1px rgba(0, 0, 0, 0.15);\n",
              "      filter: drop-shadow(0px 1px 2px rgba(0, 0, 0, 0.3));\n",
              "      fill: #FFFFFF;\n",
              "    }\n",
              "  </style>\n",
              "\n",
              "      <script>\n",
              "        const buttonEl =\n",
              "          document.querySelector('#df-f08d409a-208c-4bc1-9cfa-b1835e4a0b91 button.colab-df-convert');\n",
              "        buttonEl.style.display =\n",
              "          google.colab.kernel.accessAllowed ? 'block' : 'none';\n",
              "\n",
              "        async function convertToInteractive(key) {\n",
              "          const element = document.querySelector('#df-f08d409a-208c-4bc1-9cfa-b1835e4a0b91');\n",
              "          const dataTable =\n",
              "            await google.colab.kernel.invokeFunction('convertToInteractive',\n",
              "                                                     [key], {});\n",
              "          if (!dataTable) return;\n",
              "\n",
              "          const docLinkHtml = 'Like what you see? Visit the ' +\n",
              "            '<a target=\"_blank\" href=https://colab.research.google.com/notebooks/data_table.ipynb>data table notebook</a>'\n",
              "            + ' to learn more about interactive tables.';\n",
              "          element.innerHTML = '';\n",
              "          dataTable['output_type'] = 'display_data';\n",
              "          await google.colab.output.renderOutput(dataTable, element);\n",
              "          const docLink = document.createElement('div');\n",
              "          docLink.innerHTML = docLinkHtml;\n",
              "          element.appendChild(docLink);\n",
              "        }\n",
              "      </script>\n",
              "    </div>\n",
              "  </div>\n",
              "  "
            ]
          },
          "metadata": {},
          "execution_count": 340
        }
      ],
      "source": [
        "#melihat 5 data pertama\n",
        "dataFrame.head()"
      ]
    },
    {
      "cell_type": "markdown",
      "metadata": {
        "id": "K-2xf_hUt7JJ"
      },
      "source": [
        "membuat variabel x sebagai variabel independen, variabel diambil dari data yang sudah ada, variabel 'price' dihilangkan karena merupakan variabel dependen\n",
        "\n",
        "variabel y berisi variabel 'price' sebagai variabel dependen"
      ]
    },
    {
      "cell_type": "code",
      "execution_count": 247,
      "metadata": {
        "id": "k72ZiXOQt7JK"
      },
      "outputs": [],
      "source": [
        "#x = dataFrame.drop(['price'], axis=1)\n",
        "#y = dataFrame['price']"
      ]
    },
    {
      "cell_type": "code",
      "execution_count": 248,
      "metadata": {
        "id": "V9XOn5uut7JK"
      },
      "outputs": [],
      "source": [
        "from sklearn.model_selection import train_test_split"
      ]
    },
    {
      "cell_type": "code",
      "source": [
        "# X(Independent variables) and y(target variables) \n",
        "X = dataFrame[['bedrooms', 'bathrooms',\t'sqft_living',\t'grade',\t'yr_built']].values\n",
        "y = dataFrame['price'].values"
      ],
      "metadata": {
        "id": "-2pjgl-guRcs"
      },
      "execution_count": 412,
      "outputs": []
    },
    {
      "cell_type": "code",
      "source": [
        "X"
      ],
      "metadata": {
        "colab": {
          "base_uri": "https://localhost:8080/"
        },
        "id": "qsbDyKu6K2m-",
        "outputId": "82a3ee11-1a5a-4ef3-b57d-4064825d46f9"
      },
      "execution_count": 403,
      "outputs": [
        {
          "output_type": "execute_result",
          "data": {
            "text/plain": [
              "array([[   3,    1, 1180,    7, 1955],\n",
              "       [   3,    2, 2570,    7, 1951],\n",
              "       [   2,    1,  770,    6, 1933],\n",
              "       ...,\n",
              "       [   2,    0, 1020,    7, 2009],\n",
              "       [   3,    2, 1600,    8, 2004],\n",
              "       [   2,    0, 1020,    7, 2008]])"
            ]
          },
          "metadata": {},
          "execution_count": 403
        }
      ]
    },
    {
      "cell_type": "markdown",
      "metadata": {
        "id": "dqGlcEKbt7JK"
      },
      "source": [
        "split data training dan data testing dengan pembagian 80%(training) dan 20%(testing)"
      ]
    },
    {
      "cell_type": "code",
      "execution_count": 413,
      "metadata": {
        "id": "VKaHJ6A5t7JK"
      },
      "outputs": [],
      "source": [
        "X_train, X_test, y_train, y_test = train_test_split(X, y, test_size=0.2, random_state=50)"
      ]
    },
    {
      "cell_type": "markdown",
      "source": [
        "normalisasi data"
      ],
      "metadata": {
        "id": "cI9WWF1nr4w4"
      }
    },
    {
      "cell_type": "code",
      "source": [
        "#from sklearn.preprocessing import StandardScaler"
      ],
      "metadata": {
        "id": "e9ldE8ywsVUA"
      },
      "execution_count": 407,
      "outputs": []
    },
    {
      "cell_type": "code",
      "source": [
        "#std = StandardScaler()"
      ],
      "metadata": {
        "id": "SV2-AbDjqyMs"
      },
      "execution_count": 408,
      "outputs": []
    },
    {
      "cell_type": "code",
      "source": [
        "#X = std.fit_transform(X)"
      ],
      "metadata": {
        "id": "BUYGgRDxsacR"
      },
      "execution_count": 409,
      "outputs": []
    },
    {
      "cell_type": "code",
      "execution_count": 410,
      "metadata": {
        "id": "-bKXnaYwt7JL",
        "colab": {
          "base_uri": "https://localhost:8080/"
        },
        "outputId": "d16c7ac1-0d52-47ac-eca7-6f839173d0b0"
      },
      "outputs": [
        {
          "output_type": "stream",
          "name": "stdout",
          "text": [
            "x_train:  (17290, 5)\n",
            "x_test:  (4323, 5)\n",
            "y_train:  (17290,)\n",
            "y_test:  (4323,)\n"
          ]
        }
      ],
      "source": [
        "#cek shape data train dan test\n",
        "print(\"x_train: \", X_train.shape)\n",
        "print(\"x_test: \", X_test.shape)\n",
        "print(\"y_train: \", y_train.shape)\n",
        "print(\"y_test: \", y_test.shape)"
      ]
    },
    {
      "cell_type": "code",
      "execution_count": 255,
      "metadata": {
        "id": "zZPwcKrwt7JL",
        "colab": {
          "base_uri": "https://localhost:8080/"
        },
        "outputId": "20c4547e-bad4-40c8-e0c5-c54db85431ab"
      },
      "outputs": [
        {
          "output_type": "execute_result",
          "data": {
            "text/plain": [
              "array([[   4,    2, 2030,    7, 1973],\n",
              "       [   3,    2, 1560,    7, 2003],\n",
              "       [   3,    1, 1570,    7, 1959],\n",
              "       ...,\n",
              "       [   3,    2, 1890,    8, 2000],\n",
              "       [   4,    3, 4020,   11, 2001],\n",
              "       [   2,    1, 1190,    7, 1912]])"
            ]
          },
          "metadata": {},
          "execution_count": 255
        }
      ],
      "source": [
        "X_train"
      ]
    },
    {
      "cell_type": "code",
      "execution_count": 256,
      "metadata": {
        "id": "Px44iXYit7JL",
        "colab": {
          "base_uri": "https://localhost:8080/"
        },
        "outputId": "dcb84f46-e019-469d-f272-a72986a848ab"
      },
      "outputs": [
        {
          "output_type": "execute_result",
          "data": {
            "text/plain": [
              "array([[   3,    1, 1660,    7, 1941],\n",
              "       [   3,    1,  960,    6, 1944],\n",
              "       [   3,    2, 2730,    8, 2012],\n",
              "       ...,\n",
              "       [   3,    1, 1110,    7, 1964],\n",
              "       [   4,    4, 2680,    7, 1962],\n",
              "       [   3,    1, 1980,    7, 1949]])"
            ]
          },
          "metadata": {},
          "execution_count": 256
        }
      ],
      "source": [
        "X_test"
      ]
    },
    {
      "cell_type": "code",
      "execution_count": 257,
      "metadata": {
        "id": "9WbrBWiyt7JM",
        "colab": {
          "base_uri": "https://localhost:8080/"
        },
        "outputId": "08d84ee5-b745-4586-cd2d-ac290fc138cc"
      },
      "outputs": [
        {
          "output_type": "execute_result",
          "data": {
            "text/plain": [
              "array([ 420000.,  269000.,  439995., ...,  465000., 1691000.,  470000.])"
            ]
          },
          "metadata": {},
          "execution_count": 257
        }
      ],
      "source": [
        "y_train"
      ]
    },
    {
      "cell_type": "code",
      "execution_count": 258,
      "metadata": {
        "id": "nmU6rasHt7JM",
        "colab": {
          "base_uri": "https://localhost:8080/"
        },
        "outputId": "3f03d36b-49fc-44d6-a7b7-56a932d2b5ea"
      },
      "outputs": [
        {
          "output_type": "execute_result",
          "data": {
            "text/plain": [
              "array([530000., 289500., 510000., ..., 255000., 777000., 396000.])"
            ]
          },
          "metadata": {},
          "execution_count": 258
        }
      ],
      "source": [
        "y_test"
      ]
    },
    {
      "cell_type": "markdown",
      "source": [
        "### linear regression"
      ],
      "metadata": {
        "id": "5wvgRt7R0Uwj"
      }
    },
    {
      "cell_type": "code",
      "execution_count": 259,
      "metadata": {
        "id": "fAZFAnF8t7JN",
        "colab": {
          "base_uri": "https://localhost:8080/"
        },
        "outputId": "ef3643a5-6bf0-4e1c-da3d-77d29d28749a"
      },
      "outputs": [
        {
          "output_type": "execute_result",
          "data": {
            "text/plain": [
              "LinearRegression()"
            ]
          },
          "metadata": {},
          "execution_count": 259
        }
      ],
      "source": [
        "#menggunakan algoritma linear regression untuk menentukan model\n",
        "from sklearn.linear_model import LinearRegression\n",
        "\n",
        "linReg = LinearRegression()\n",
        "linReg.fit(X_train, y_train)"
      ]
    },
    {
      "cell_type": "code",
      "execution_count": 260,
      "metadata": {
        "id": "fAEFybDYt7JN",
        "colab": {
          "base_uri": "https://localhost:8080/"
        },
        "outputId": "8da1c73e-6f5b-4307-e774-40f5d101968d"
      },
      "outputs": [
        {
          "output_type": "stream",
          "name": "stdout",
          "text": [
            "coefficient:  [-49390.05134464  65531.62546011    182.72887274 131207.61363147\n",
            "  -3942.08166179]\n",
            "intercept:  6975638.778442139\n"
          ]
        }
      ],
      "source": [
        "#cari nilai koeffisien dan intercept\n",
        "print(\"coefficient: \", linReg.coef_)\n",
        "print(\"intercept: \", linReg.intercept_)"
      ]
    },
    {
      "cell_type": "code",
      "execution_count": 261,
      "metadata": {
        "id": "aGar9fx3t7JN"
      },
      "outputs": [],
      "source": [
        "#input hasil koeffisien ke dalam tabel dengan kolom \"features\" dan \"coef_value\"\n",
        "#coef_value = pd.DataFrame(model.coef_, x.columns, columns=['coef_value'])\n",
        "#coef_value\n"
      ]
    },
    {
      "cell_type": "code",
      "execution_count": 262,
      "metadata": {
        "id": "zETV9Yn0t7JN",
        "colab": {
          "base_uri": "https://localhost:8080/"
        },
        "outputId": "f9b1568b-a489-4302-9bda-91e2d3e24b65"
      },
      "outputs": [
        {
          "output_type": "execute_result",
          "data": {
            "text/plain": [
              "62.10054115003663"
            ]
          },
          "metadata": {},
          "execution_count": 262
        }
      ],
      "source": [
        "#melihat akuratnya model\n",
        "linReg.score(X_train, y_train)*100"
      ]
    },
    {
      "cell_type": "code",
      "execution_count": 263,
      "metadata": {
        "id": "KmkfZySut7JO",
        "colab": {
          "base_uri": "https://localhost:8080/"
        },
        "outputId": "b078181b-0a01-444b-a0a8-cc3ada65f6d5"
      },
      "outputs": [
        {
          "output_type": "execute_result",
          "data": {
            "text/plain": [
              "array([655597.05154588])"
            ]
          },
          "metadata": {},
          "execution_count": 263
        }
      ],
      "source": [
        "linReg.predict([[3, 2, 2570, 7, 1951]])"
      ]
    },
    {
      "cell_type": "markdown",
      "metadata": {
        "id": "7y5-ZAZZt7JO"
      },
      "source": [
        "### random forest regression"
      ]
    },
    {
      "cell_type": "code",
      "execution_count": 421,
      "metadata": {
        "id": "vKSVN_oct7JO",
        "colab": {
          "base_uri": "https://localhost:8080/"
        },
        "outputId": "947f789e-a3ac-4307-f8f6-4f1bf193aa96"
      },
      "outputs": [
        {
          "output_type": "execute_result",
          "data": {
            "text/plain": [
              "94.68111961392832"
            ]
          },
          "metadata": {},
          "execution_count": 421
        }
      ],
      "source": [
        "#random forest regressor\n",
        "from sklearn.ensemble import RandomForestRegressor\n",
        "\n",
        "RFG = RandomForestRegressor(n_estimators=300, random_state=50)\n",
        "RFG.fit(X_train, y_train)\n",
        "RFG.score(X_train, y_train)*100"
      ]
    },
    {
      "cell_type": "markdown",
      "source": [
        "- RFG = RandomForestRegressor(n_estimators=200, max_depth=200)\n",
        "- akurasi: 94.63265849272376\n",
        "\n",
        "==============================================\n",
        "\n",
        "- RFG = RandomForestRegressor(n_estimators=300)\n",
        "- akurasi = 94.64595082082823\n",
        "\n",
        "==============================================\n",
        "\n",
        "- RFG = RandomForestRegressor(n_estimators=300, max_depth=1000)\n",
        "- akurasi: 94.66362656403754\n",
        "\n",
        "==============================================\n",
        "\n",
        "- RFG = RandomForestRegressor(n_estimators=300, random_state=50)\n",
        "- akurasi: 94.68145042511402\n",
        "\n",
        "=============================================\n",
        "\n",
        "akurasi tertinggi sementara di 94.68%, tanpa max_depth dan dengan max_depth=200 tidak berpengaruh\n",
        "\n"
      ],
      "metadata": {
        "id": "KsmTIBQS9F-I"
      }
    },
    {
      "cell_type": "markdown",
      "source": [
        "contoh data yang dicoba:\n",
        "\n",
        "bedrooms,\tbathrooms,\tsqft_living,\tgrade,\tyr_built\n",
        "   \n",
        "- \t3\t1\t1200\t6\t1950 || harga: 260000.0\n",
        "\n",
        "\n",
        "- \t3\t1\t1150\t7\t1959 || harga: 464500.0\n",
        "\n",
        "\n",
        "- \t3\t1\t1100\t6\t1962 || harga: 184000.0\n",
        "\n",
        "\n",
        "- \t4\t2\t2790\t9\t1999 || harga: 685100.0\n",
        "\n",
        "\n",
        "- \t5\t2\t3200\t7\t1952 || harga: 1270000.0\n",
        "\n",
        "\n",
        "- \t4\t2\t2160\t7\t1940 || harga: 650000.0\n",
        "\n",
        "\n",
        "- \t5\t2\t2720\t8\t1913 || harga: 752500.0\n",
        "\n",
        "\n",
        "- \t2\t1\t1000\t7\t1947 || harga: 305000.0\n",
        "\n",
        "\n",
        "- \t3\t1\t1270\t8\t2009 || harga: 325000.0\n",
        "\n",
        "\n",
        "- \t4\t3\t1960\t7\t1965 || harga: 604000.0\n",
        "\n"
      ],
      "metadata": {
        "id": "r6OcyK5o-_kO"
      }
    },
    {
      "cell_type": "markdown",
      "source": [
        "Mencoba beberapa inputan dan melihat prediksi"
      ],
      "metadata": {
        "id": "wfD11MAN5c5c"
      }
    },
    {
      "cell_type": "code",
      "source": [
        "print(\"1.\")\n",
        "print(\"harga aktual: 260000.0\")\n",
        "harga_pred = RFG.predict([[3,1, 1200, 6, 1950]])\n",
        "print(\"harga prediksi:\", harga_pred)\n",
        "print(\"persentase perbedaan:\", ((harga_pred-260000)/260000)*100, \"%\")"
      ],
      "metadata": {
        "id": "UVUYe9loNTwB",
        "colab": {
          "base_uri": "https://localhost:8080/"
        },
        "outputId": "cf6f71a4-6d4f-4223-c867-cc4492b34bbf"
      },
      "execution_count": 380,
      "outputs": [
        {
          "output_type": "stream",
          "name": "stdout",
          "text": [
            "1.\n",
            "harga aktual: 260000.0\n",
            "harga prediksi: [267333.3984127]\n",
            "persentase perbedaan: [2.82053785] %\n"
          ]
        },
        {
          "output_type": "stream",
          "name": "stderr",
          "text": [
            "/usr/local/lib/python3.7/dist-packages/sklearn/base.py:451: UserWarning: X does not have valid feature names, but RandomForestRegressor was fitted with feature names\n",
            "  \"X does not have valid feature names, but\"\n"
          ]
        }
      ]
    },
    {
      "cell_type": "code",
      "source": [
        "print(\"2.\")\n",
        "print(\"harga aktual: 464500.0\")\n",
        "harga_pred = RFG.predict([[3, 1, 1150, 7, 1959]])\n",
        "print(\"harga prediksi:\", harga_pred)\n",
        "print(\"persentase perbedaan:\", ((harga_pred-464500)/464500)*100, \"%\")"
      ],
      "metadata": {
        "colab": {
          "base_uri": "https://localhost:8080/"
        },
        "id": "xxLrmoy26h8f",
        "outputId": "374a8c49-b8d8-40ca-a820-2f7cf7b5174c"
      },
      "execution_count": 381,
      "outputs": [
        {
          "output_type": "stream",
          "name": "stdout",
          "text": [
            "2.\n",
            "harga aktual: 464500.0\n",
            "harga prediksi: [388769.77420635]\n",
            "persentase perbedaan: [-16.30360082] %\n"
          ]
        },
        {
          "output_type": "stream",
          "name": "stderr",
          "text": [
            "/usr/local/lib/python3.7/dist-packages/sklearn/base.py:451: UserWarning: X does not have valid feature names, but RandomForestRegressor was fitted with feature names\n",
            "  \"X does not have valid feature names, but\"\n"
          ]
        }
      ]
    },
    {
      "cell_type": "code",
      "source": [
        "print(\"3.\")\n",
        "print(\"harga aktual: 184000.0\")\n",
        "harga_pred = RFG.predict([[3, 1, 1100, 6, 1962]])\n",
        "print(\"harga prediksi:\", harga_pred)\n",
        "print(\"persentase perbedaan:\", ((harga_pred-184000)/184000)*100, \"%\")"
      ],
      "metadata": {
        "colab": {
          "base_uri": "https://localhost:8080/"
        },
        "id": "BgADRH_n8EHX",
        "outputId": "3c76c80b-18a5-474c-a11d-cb85f46c2d90"
      },
      "execution_count": 382,
      "outputs": [
        {
          "output_type": "stream",
          "name": "stdout",
          "text": [
            "3.\n",
            "harga aktual: 184000.0\n",
            "harga prediksi: [192676.65]\n",
            "persentase perbedaan: [4.71557065] %\n"
          ]
        },
        {
          "output_type": "stream",
          "name": "stderr",
          "text": [
            "/usr/local/lib/python3.7/dist-packages/sklearn/base.py:451: UserWarning: X does not have valid feature names, but RandomForestRegressor was fitted with feature names\n",
            "  \"X does not have valid feature names, but\"\n"
          ]
        }
      ]
    },
    {
      "cell_type": "code",
      "source": [
        "print(\"4.\")\n",
        "print(\"harga aktual: 685100.0\")\n",
        "harga_pred = RFG.predict([[4,\t2,\t2790,\t9,\t1999]])\n",
        "print(\"harga prediksi:\", harga_pred)\n",
        "print(\"persentase perbedaan:\", ((harga_pred-685100)/685100)*100, \"%\")"
      ],
      "metadata": {
        "colab": {
          "base_uri": "https://localhost:8080/"
        },
        "id": "rhRSLfOk-c44",
        "outputId": "3e48a6d9-28db-4514-f90b-4de20802a75e"
      },
      "execution_count": 383,
      "outputs": [
        {
          "output_type": "stream",
          "name": "stdout",
          "text": [
            "4.\n",
            "harga aktual: 685100.0\n",
            "harga prediksi: [683711.99126984]\n",
            "persentase perbedaan: [-0.20259944] %\n"
          ]
        },
        {
          "output_type": "stream",
          "name": "stderr",
          "text": [
            "/usr/local/lib/python3.7/dist-packages/sklearn/base.py:451: UserWarning: X does not have valid feature names, but RandomForestRegressor was fitted with feature names\n",
            "  \"X does not have valid feature names, but\"\n"
          ]
        }
      ]
    },
    {
      "cell_type": "code",
      "source": [
        "print(\"5.\")\n",
        "print(\"harga aktual: 1270000.0\")\n",
        "harga_pred = RFG.predict([[5,\t2,\t3200,\t7,\t1952]])\n",
        "print(\"harga prediksi:\", harga_pred)\n",
        "print(\"persentase perbedaan:\", ((harga_pred-1270000)/1270000)*100, \"%\")"
      ],
      "metadata": {
        "colab": {
          "base_uri": "https://localhost:8080/"
        },
        "id": "f1USDUamAxmo",
        "outputId": "a4699891-8ae7-4955-97e9-1828d997d0f1"
      },
      "execution_count": 384,
      "outputs": [
        {
          "output_type": "stream",
          "name": "stdout",
          "text": [
            "5.\n",
            "harga aktual: 1270000.0\n",
            "harga prediksi: [1020157.16666667]\n",
            "persentase perbedaan: [-19.67266404] %\n"
          ]
        },
        {
          "output_type": "stream",
          "name": "stderr",
          "text": [
            "/usr/local/lib/python3.7/dist-packages/sklearn/base.py:451: UserWarning: X does not have valid feature names, but RandomForestRegressor was fitted with feature names\n",
            "  \"X does not have valid feature names, but\"\n"
          ]
        }
      ]
    },
    {
      "cell_type": "code",
      "source": [
        "print(\"6.\")\n",
        "print(\"harga aktual: 650000.0\")\n",
        "harga_pred = RFG.predict([[4,\t2,\t2160,\t7,\t1940]])\n",
        "print(\"harga prediksi:\", harga_pred)\n",
        "print(\"persentase perbedaan:\", ((harga_pred-650000)/650000)*100, \"%\")"
      ],
      "metadata": {
        "colab": {
          "base_uri": "https://localhost:8080/"
        },
        "id": "fgPX6pVlB1VK",
        "outputId": "4ef1fbbd-7f19-4930-c563-2345efeaf073"
      },
      "execution_count": 385,
      "outputs": [
        {
          "output_type": "stream",
          "name": "stdout",
          "text": [
            "6.\n",
            "harga aktual: 650000.0\n",
            "harga prediksi: [638012.33333333]\n",
            "persentase perbedaan: [-1.84425641] %\n"
          ]
        },
        {
          "output_type": "stream",
          "name": "stderr",
          "text": [
            "/usr/local/lib/python3.7/dist-packages/sklearn/base.py:451: UserWarning: X does not have valid feature names, but RandomForestRegressor was fitted with feature names\n",
            "  \"X does not have valid feature names, but\"\n"
          ]
        }
      ]
    },
    {
      "cell_type": "code",
      "source": [
        "print(\"7.\")\n",
        "print(\"harga aktual: 752500.0\")\n",
        "harga_pred = RFG.predict([[5,\t2,\t2720,\t8,\t1913]])\n",
        "print(\"harga prediksi:\", harga_pred)\n",
        "print(\"persentase perbedaan:\", ((harga_pred-752500)/752500)*100, \"%\")"
      ],
      "metadata": {
        "colab": {
          "base_uri": "https://localhost:8080/"
        },
        "id": "Ut0wu-F6CO3B",
        "outputId": "1bbc3c04-e739-41a6-bb8c-63f69c6270d7"
      },
      "execution_count": 386,
      "outputs": [
        {
          "output_type": "stream",
          "name": "stdout",
          "text": [
            "7.\n",
            "harga aktual: 752500.0\n",
            "harga prediksi: [859180.]\n",
            "persentase perbedaan: [14.17674419] %\n"
          ]
        },
        {
          "output_type": "stream",
          "name": "stderr",
          "text": [
            "/usr/local/lib/python3.7/dist-packages/sklearn/base.py:451: UserWarning: X does not have valid feature names, but RandomForestRegressor was fitted with feature names\n",
            "  \"X does not have valid feature names, but\"\n"
          ]
        }
      ]
    },
    {
      "cell_type": "code",
      "source": [
        "print(\"8.\")\n",
        "print(\"harga aktual: 305000.0\")\n",
        "harga_pred = RFG.predict([[2,1,1000,7,1947]])\n",
        "print(\"harga prediksi:\", harga_pred)\n",
        "print(\"persentase perbedaan:\", ((harga_pred-305000)/305000)*100, \"%\")"
      ],
      "metadata": {
        "colab": {
          "base_uri": "https://localhost:8080/"
        },
        "id": "_Xso1j0GCd8R",
        "outputId": "06c8a24a-1257-4d58-d27e-de570a180438"
      },
      "execution_count": 387,
      "outputs": [
        {
          "output_type": "stream",
          "name": "stdout",
          "text": [
            "8.\n",
            "harga aktual: 305000.0\n",
            "harga prediksi: [322720.33888889]\n",
            "persentase perbedaan: [5.80994718] %\n"
          ]
        },
        {
          "output_type": "stream",
          "name": "stderr",
          "text": [
            "/usr/local/lib/python3.7/dist-packages/sklearn/base.py:451: UserWarning: X does not have valid feature names, but RandomForestRegressor was fitted with feature names\n",
            "  \"X does not have valid feature names, but\"\n"
          ]
        }
      ]
    },
    {
      "cell_type": "code",
      "source": [
        "print(\"9.\")\n",
        "print(\"harga aktual: 325000.0\")\n",
        "harga_pred = RFG.predict([[3,1,1270,8,2009]])\n",
        "print(\"harga prediksi:\", harga_pred)\n",
        "print(\"persentase perbedaan:\", ((harga_pred-325000)/325000)*100, \"%\")"
      ],
      "metadata": {
        "colab": {
          "base_uri": "https://localhost:8080/"
        },
        "id": "ZDzIwiWhCu8h",
        "outputId": "190148df-d8fc-4e1a-9718-59a6a5cc29cb"
      },
      "execution_count": 388,
      "outputs": [
        {
          "output_type": "stream",
          "name": "stdout",
          "text": [
            "9.\n",
            "harga aktual: 325000.0\n",
            "harga prediksi: [361786.75010582]\n",
            "persentase perbedaan: [11.31900003] %\n"
          ]
        },
        {
          "output_type": "stream",
          "name": "stderr",
          "text": [
            "/usr/local/lib/python3.7/dist-packages/sklearn/base.py:451: UserWarning: X does not have valid feature names, but RandomForestRegressor was fitted with feature names\n",
            "  \"X does not have valid feature names, but\"\n"
          ]
        }
      ]
    },
    {
      "cell_type": "code",
      "source": [
        "print(\"10.\")\n",
        "print(\"harga aktual: 604000.0\")\n",
        "harga_pred = RFG.predict([[4,\t3,\t1960,\t7,\t1965]])\n",
        "print(\"harga prediksi:\", harga_pred)\n",
        "print(\"persentase perbedaan:\", ((harga_pred-604000)/604000)*100, \"%\")"
      ],
      "metadata": {
        "colab": {
          "base_uri": "https://localhost:8080/"
        },
        "id": "taApHX57C_BZ",
        "outputId": "c3365548-505e-4bed-ad87-33e5964dd08b"
      },
      "execution_count": 389,
      "outputs": [
        {
          "output_type": "stream",
          "name": "stdout",
          "text": [
            "10.\n",
            "harga aktual: 604000.0\n",
            "harga prediksi: [544493.33333333]\n",
            "persentase perbedaan: [-9.85209713] %\n"
          ]
        },
        {
          "output_type": "stream",
          "name": "stderr",
          "text": [
            "/usr/local/lib/python3.7/dist-packages/sklearn/base.py:451: UserWarning: X does not have valid feature names, but RandomForestRegressor was fitted with feature names\n",
            "  \"X does not have valid feature names, but\"\n"
          ]
        }
      ]
    },
    {
      "cell_type": "code",
      "source": [
        "#print(\"rata-rata persentase selisih: \", (((3.11901496)+(-15.40181796)+(5.77395229)+(-1.21984747)+(-21.38292651)+(-2.36890205)+(11.44186047)+(5.08651652)+(10.93887424)+(-7.9580574))/10), \"%\")"
      ],
      "metadata": {
        "id": "K1IyKpNHDSEo"
      },
      "execution_count": 377,
      "outputs": []
    },
    {
      "cell_type": "code",
      "source": [
        "#melihat plot antara harga prediksi dengan harga real\n",
        "\n",
        "plt.scatter(y_test, RFG.predict(X_test), color='red')\n",
        "plt.plot([y_test.min(), y_test.max()], [y_test.min(), y_test.max()], '--', color='black')\n",
        "plt.xlabel('Actual Price')\n",
        "plt.ylabel('Predicted Price')\n",
        "plt.show()"
      ],
      "metadata": {
        "colab": {
          "base_uri": "https://localhost:8080/",
          "height": 290
        },
        "id": "fRyTX7TWhYZK",
        "outputId": "d0136df2-ea34-41cf-8a7f-e298e24b1fbd"
      },
      "execution_count": 427,
      "outputs": [
        {
          "output_type": "display_data",
          "data": {
            "text/plain": [
              "<Figure size 432x288 with 1 Axes>"
            ],
            "image/png": "[encoded data removed]"
          },
          "metadata": {
            "needs_background": "light"
          }
        }
      ]
    },
    {
      "cell_type": "markdown",
      "source": [
        "### gradient boost regressor"
      ],
      "metadata": {
        "id": "ykWUpXAm0OW8"
      }
    },
    {
      "cell_type": "code",
      "execution_count": 266,
      "metadata": {
        "id": "in8s5Stht7JP",
        "colab": {
          "base_uri": "https://localhost:8080/"
        },
        "outputId": "8c8f0a82-6c6a-4958-b67b-b6e9315186e4"
      },
      "outputs": [
        {
          "output_type": "execute_result",
          "data": {
            "text/plain": [
              "83.20173781766165"
            ]
          },
          "metadata": {},
          "execution_count": 266
        }
      ],
      "source": [
        "from sklearn.ensemble import GradientBoostingRegressor\n",
        "\n",
        "\n",
        "#GBoost = GradientBoostingRegressor(n_estimators=170, max_depth=6, learning_rate=0.1)\n",
        "GBoost = GradientBoostingRegressor(n_estimators=170, max_depth=6, learning_rate=0.1)\n",
        "GBoost.fit(X_train, y_train)\n",
        "\n",
        "#melihat akurasi dari model gradient boosting regressor\n",
        "GBoost.score(X_train, y_train)*100"
      ]
    },
    {
      "cell_type": "markdown",
      "source": [
        "parameter: n_estimator=170, max_depth=2, learning_rate=0.1\n",
        "akurasi: 68.80663585816413\n",
        "\n",
        "parameter: n_estimator=170, max_depth=3, learning_rate=0.1\n",
        "akurasi: 68.6577371703128\n",
        "\n",
        "parameter: n_estimator=170, max_depth=6, learning_rate=0.1\n",
        "akurasi: 67.49303041502517"
      ],
      "metadata": {
        "id": "FTXpR353PPoI"
      }
    },
    {
      "cell_type": "code",
      "source": [
        "GBoost.predict([[3, 2, 2570, 7, 1951]])"
      ],
      "metadata": {
        "id": "uMZOdPnKNbNp",
        "colab": {
          "base_uri": "https://localhost:8080/"
        },
        "outputId": "e5eab186-20ca-4faa-e3e9-647bd3848ae8"
      },
      "execution_count": 267,
      "outputs": [
        {
          "output_type": "execute_result",
          "data": {
            "text/plain": [
              "array([620596.83152558])"
            ]
          },
          "metadata": {},
          "execution_count": 267
        }
      ]
    }
  ],
  "metadata": {
    "kernelspec": {
      "display_name": "Python 3.8.6 64-bit",
      "language": "python",
      "name": "python3"
    },
    "language_info": {
      "codemirror_mode": {
        "name": "ipython",
        "version": 3
      },
      "file_extension": ".py",
      "mimetype": "text/x-python",
      "name": "python",
      "nbconvert_exporter": "python",
      "pygments_lexer": "ipython3",
      "version": "3.8.6"
    },
    "orig_nbformat": 4,
    "vscode": {
      "interpreter": {
        "hash": "5ff5ac61870afef2f92de208f8d497b668dbb82d4efec62ea5e0e67a445f7300"
      }
    },
    "colab": {
      "name": "latian_PrediksiHargaRumah.ipynb",
      "provenance": [],
      "collapsed_sections": [
        "5wvgRt7R0Uwj",
        "ykWUpXAm0OW8"
      ]
    }
  },
  "nbformat": 4,
  "nbformat_minor": 0
}